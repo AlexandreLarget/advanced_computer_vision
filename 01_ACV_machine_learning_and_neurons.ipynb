{
  "nbformat": 4,
  "nbformat_minor": 0,
  "metadata": {
    "colab": {
      "provenance": [],
      "authorship_tag": "ABX9TyObMXrbCJhYVEFtZYlNuSEg",
      "include_colab_link": true
    },
    "kernelspec": {
      "name": "python3",
      "display_name": "Python 3"
    },
    "language_info": {
      "name": "python"
    }
  },
  "cells": [
    {
      "cell_type": "markdown",
      "metadata": {
        "id": "view-in-github",
        "colab_type": "text"
      },
      "source": [
        "<a href=\"https://colab.research.google.com/github/AlexandreLarget/advanced_computer_vision/blob/main/01_ACV_machine_learning_and_neurons.ipynb\" target=\"_parent\"><img src=\"https://colab.research.google.com/assets/colab-badge.svg\" alt=\"Open In Colab\"/></a>"
      ]
    },
    {
      "cell_type": "markdown",
      "source": [
        "# Classification therory"
      ],
      "metadata": {
        "id": "BpZhazfZoWWU"
      }
    },
    {
      "cell_type": "markdown",
      "source": [
        "## Classification notebook"
      ],
      "metadata": {
        "id": "v_Eth4yvnnMs"
      }
    },
    {
      "cell_type": "code",
      "execution_count": null,
      "metadata": {
        "id": "UeOxPPWAiPWX"
      },
      "outputs": [],
      "source": [
        "import tensorflow as tf\n",
        "from sklearn.datasets import load_breast_cancer"
      ]
    },
    {
      "cell_type": "code",
      "source": [
        "data = load_breast_cancer()"
      ],
      "metadata": {
        "id": "MRnFILwriiNA"
      },
      "execution_count": null,
      "outputs": []
    },
    {
      "cell_type": "code",
      "source": [
        "data.keys()"
      ],
      "metadata": {
        "colab": {
          "base_uri": "https://localhost:8080/"
        },
        "id": "spOwCquLiqEe",
        "outputId": "7681f2e0-4737-4ebe-a4c9-9a8eff5becdc"
      },
      "execution_count": null,
      "outputs": [
        {
          "output_type": "execute_result",
          "data": {
            "text/plain": [
              "dict_keys(['data', 'target', 'frame', 'target_names', 'DESCR', 'feature_names', 'filename', 'data_module'])"
            ]
          },
          "metadata": {},
          "execution_count": 3
        }
      ]
    },
    {
      "cell_type": "code",
      "source": [
        "data.data.shape"
      ],
      "metadata": {
        "colab": {
          "base_uri": "https://localhost:8080/"
        },
        "id": "zaMmiJyJiq0k",
        "outputId": "887cec03-07ac-4003-e372-7a7f0504b670"
      },
      "execution_count": null,
      "outputs": [
        {
          "output_type": "execute_result",
          "data": {
            "text/plain": [
              "(569, 30)"
            ]
          },
          "metadata": {},
          "execution_count": 4
        }
      ]
    },
    {
      "cell_type": "code",
      "source": [
        "from sklearn.model_selection import train_test_split\n",
        "x_train, x_test, y_train, y_test = train_test_split(data.data, data.target, test_size=0.33)\n",
        "x_train.shape, y_train.shape, x_test.shape, y_test.shape"
      ],
      "metadata": {
        "colab": {
          "base_uri": "https://localhost:8080/"
        },
        "id": "5HGsB8HzivgE",
        "outputId": "a7f6a1d2-60e4-4cc0-9f81-7e5357ea9a34"
      },
      "execution_count": null,
      "outputs": [
        {
          "output_type": "execute_result",
          "data": {
            "text/plain": [
              "((381, 30), (381,), (188, 30), (188,))"
            ]
          },
          "metadata": {},
          "execution_count": 5
        }
      ]
    },
    {
      "cell_type": "code",
      "source": [
        "N, D = x_train.shape"
      ],
      "metadata": {
        "id": "-WOSZO7jjFwG"
      },
      "execution_count": null,
      "outputs": []
    },
    {
      "cell_type": "code",
      "source": [
        "x_train[0]"
      ],
      "metadata": {
        "colab": {
          "base_uri": "https://localhost:8080/"
        },
        "id": "I8qUHzeYjexD",
        "outputId": "a6b96c48-cc46-40fd-f474-d1fdb225a0b1"
      },
      "execution_count": null,
      "outputs": [
        {
          "output_type": "execute_result",
          "data": {
            "text/plain": [
              "array([1.104e+01, 1.683e+01, 7.092e+01, 3.732e+02, 1.077e-01, 7.804e-02,\n",
              "       3.046e-02, 2.480e-02, 1.714e-01, 6.340e-02, 1.967e-01, 1.387e+00,\n",
              "       1.342e+00, 1.354e+01, 5.158e-03, 9.355e-03, 1.056e-02, 7.483e-03,\n",
              "       1.718e-02, 2.198e-03, 1.241e+01, 2.644e+01, 7.993e+01, 4.714e+02,\n",
              "       1.369e-01, 1.482e-01, 1.067e-01, 7.431e-02, 2.998e-01, 7.881e-02])"
            ]
          },
          "metadata": {},
          "execution_count": 7
        }
      ]
    },
    {
      "cell_type": "code",
      "source": [
        "from sklearn.preprocessing import StandardScaler\n",
        "scaler = StandardScaler()\n",
        "x_train = scaler.fit_transform(x_train)\n",
        "x_test = scaler.transform(x_test)"
      ],
      "metadata": {
        "id": "-JtkqvEQjkIk"
      },
      "execution_count": null,
      "outputs": []
    },
    {
      "cell_type": "code",
      "source": [
        "x_train[0]"
      ],
      "metadata": {
        "colab": {
          "base_uri": "https://localhost:8080/"
        },
        "id": "AQlfSMCujwMS",
        "outputId": "67c5537e-a291-4658-a9bc-87af2e9ed602"
      },
      "execution_count": null,
      "outputs": [
        {
          "output_type": "execute_result",
          "data": {
            "text/plain": [
              "array([-0.94869987, -0.59105523, -0.93786753, -0.865414  ,  0.85107827,\n",
              "       -0.50728577, -0.74600288, -0.65196287, -0.37056992,  0.14609766,\n",
              "       -0.77898789,  0.30972131, -0.76885825, -0.635935  , -0.57502821,\n",
              "       -0.89575996, -0.75815906, -0.70344276, -0.40629982, -0.64612814,\n",
              "       -0.86408303,  0.10986098, -0.87670599, -0.77590371,  0.20594068,\n",
              "       -0.68683835, -0.80579761, -0.64581162,  0.13789403, -0.26075591])"
            ]
          },
          "metadata": {},
          "execution_count": 9
        }
      ]
    },
    {
      "cell_type": "code",
      "source": [
        "model = tf.keras.Sequential([\n",
        "    tf.keras.layers.Input(shape=(D,)),\n",
        "    tf.keras.layers.Dense(1, activation=\"sigmoid\")\n",
        "])"
      ],
      "metadata": {
        "id": "6DRl-9Zij7ne"
      },
      "execution_count": null,
      "outputs": []
    },
    {
      "cell_type": "code",
      "source": [
        "model.compile(loss=\"BinaryCrossentropy\",\n",
        "              optimizer=\"Adam\",\n",
        "              metrics=[\"accuracy\"])"
      ],
      "metadata": {
        "id": "NesxCKQ9kS9H"
      },
      "execution_count": null,
      "outputs": []
    },
    {
      "cell_type": "code",
      "source": [
        "r = model.fit(x_train, y_train,\n",
        "          validation_data=(x_test, y_test),\n",
        "          epochs=150,\n",
        "          verbose=0)"
      ],
      "metadata": {
        "id": "eUeFI682kdUH"
      },
      "execution_count": null,
      "outputs": []
    },
    {
      "cell_type": "code",
      "source": [
        "print(\"Train set evaluation: \", model.evaluate(x_train, y_train))\n",
        "print(\"Test set evaluation: \", model.evaluate(x_test, y_test))"
      ],
      "metadata": {
        "colab": {
          "base_uri": "https://localhost:8080/"
        },
        "id": "s27JI_Uuk8eO",
        "outputId": "cbf394bf-8254-4716-929a-686c48e5a625"
      },
      "execution_count": null,
      "outputs": [
        {
          "output_type": "stream",
          "name": "stdout",
          "text": [
            "12/12 [==============================] - 0s 2ms/step - loss: 0.0873 - accuracy: 0.9764\n",
            "Train set evaluation:  [0.08734183013439178, 0.9763779640197754]\n",
            "6/6 [==============================] - 0s 2ms/step - loss: 0.0814 - accuracy: 0.9734\n",
            "Test set evaluation:  [0.08135539293289185, 0.9734042286872864]\n"
          ]
        }
      ]
    },
    {
      "cell_type": "code",
      "source": [
        "import matplotlib.pyplot as plt\n",
        "plt.figure(figsize=(10, 7))\n",
        "plt.plot(r.history[\"loss\"], label=\"loss\")\n",
        "plt.plot(r.history[\"val_loss\"], label=\"val_loss\")\n",
        "plt.legend();"
      ],
      "metadata": {
        "colab": {
          "base_uri": "https://localhost:8080/",
          "height": 428
        },
        "id": "Rc-9bzUqmXti",
        "outputId": "2067bbe3-4a0e-4fe0-99a9-e2d07c44540b"
      },
      "execution_count": null,
      "outputs": [
        {
          "output_type": "display_data",
          "data": {
            "text/plain": [
              "<Figure size 720x504 with 1 Axes>"
            ],
            "image/png": "[encoded data removed]"
          },
          "metadata": {
            "needs_background": "light"
          }
        }
      ]
    },
    {
      "cell_type": "code",
      "source": [
        "plt.figure(figsize=(10, 7))\n",
        "plt.plot(r.history[\"accuracy\"], label=\"accuracy\")\n",
        "plt.plot(r.history[\"val_accuracy\"], label=\"val_accuracy\")\n",
        "plt.legend();"
      ],
      "metadata": {
        "colab": {
          "base_uri": "https://localhost:8080/",
          "height": 429
        },
        "id": "O-WnZpWomqEi",
        "outputId": "be9ac25f-518e-4f9f-8845-c3fa24015e2d"
      },
      "execution_count": null,
      "outputs": [
        {
          "output_type": "display_data",
          "data": {
            "text/plain": [
              "<Figure size 720x504 with 1 Axes>"
            ],
            "image/png": "[encoded data removed]"
          },
          "metadata": {
            "needs_background": "light"
          }
        }
      ]
    },
    {
      "cell_type": "markdown",
      "source": [
        "## Classification exercise"
      ],
      "metadata": {
        "id": "BIE5K6grnE-F"
      }
    },
    {
      "cell_type": "code",
      "source": [
        "!wget https://lazyprogrammer.me/course_files/exercises/diabetes.csv"
      ],
      "metadata": {
        "colab": {
          "base_uri": "https://localhost:8080/"
        },
        "id": "te-4YjwNY7yj",
        "outputId": "2b9dac66-1622-43f0-ed06-21331c958fe8"
      },
      "execution_count": null,
      "outputs": [
        {
          "output_type": "stream",
          "name": "stdout",
          "text": [
            "--2022-12-06 03:11:29--  https://lazyprogrammer.me/course_files/exercises/diabetes.csv\n",
            "Resolving lazyprogrammer.me (lazyprogrammer.me)... 104.21.23.210, 172.67.213.166, 2606:4700:3031::6815:17d2, ...\n",
            "Connecting to lazyprogrammer.me (lazyprogrammer.me)|104.21.23.210|:443... connected.\n",
            "HTTP request sent, awaiting response... 200 OK\n",
            "Length: 23873 (23K) [text/csv]\n",
            "Saving to: ‘diabetes.csv’\n",
            "\n",
            "diabetes.csv        100%[===================>]  23.31K  --.-KB/s    in 0s      \n",
            "\n",
            "2022-12-06 03:11:29 (138 MB/s) - ‘diabetes.csv’ saved [23873/23873]\n",
            "\n"
          ]
        }
      ]
    },
    {
      "cell_type": "code",
      "source": [
        "import pandas as pd"
      ],
      "metadata": {
        "id": "9_PODwBbarjy"
      },
      "execution_count": null,
      "outputs": []
    },
    {
      "cell_type": "code",
      "source": [
        "data = pd.read_csv(\"diabetes.csv\")"
      ],
      "metadata": {
        "id": "fcm6b7yIayU2"
      },
      "execution_count": null,
      "outputs": []
    },
    {
      "cell_type": "code",
      "source": [
        "data.head()"
      ],
      "metadata": {
        "colab": {
          "base_uri": "https://localhost:8080/",
          "height": 206
        },
        "id": "pq-ylMC3a4oz",
        "outputId": "d1ffe66f-00b6-49d2-c18d-7f097633833b"
      },
      "execution_count": null,
      "outputs": [
        {
          "output_type": "execute_result",
          "data": {
            "text/plain": [
              "   Pregnancies  Glucose  BloodPressure  SkinThickness  Insulin   BMI  \\\n",
              "0            6      148             72             35        0  33.6   \n",
              "1            1       85             66             29        0  26.6   \n",
              "2            8      183             64              0        0  23.3   \n",
              "3            1       89             66             23       94  28.1   \n",
              "4            0      137             40             35      168  43.1   \n",
              "\n",
              "   DiabetesPedigreeFunction  Age  Outcome  \n",
              "0                     0.627   50        1  \n",
              "1                     0.351   31        0  \n",
              "2                     0.672   32        1  \n",
              "3                     0.167   21        0  \n",
              "4                     2.288   33        1  "
            ],
            "text/html": [
              "\n",
              "  <div id=\"df-bd18adc6-b556-462f-b168-7497a3f80935\">\n",
              "    <div class=\"colab-df-container\">\n",
              "      <div>\n",
              "<style scoped>\n",
              "    .dataframe tbody tr th:only-of-type {\n",
              "        vertical-align: middle;\n",
              "    }\n",
              "\n",
              "    .dataframe tbody tr th {\n",
              "        vertical-align: top;\n",
              "    }\n",
              "\n",
              "    .dataframe thead th {\n",
              "        text-align: right;\n",
              "    }\n",
              "</style>\n",
              "<table border=\"1\" class=\"dataframe\">\n",
              "  <thead>\n",
              "    <tr style=\"text-align: right;\">\n",
              "      <th></th>\n",
              "      <th>Pregnancies</th>\n",
              "      <th>Glucose</th>\n",
              "      <th>BloodPressure</th>\n",
              "      <th>SkinThickness</th>\n",
              "      <th>Insulin</th>\n",
              "      <th>BMI</th>\n",
              "      <th>DiabetesPedigreeFunction</th>\n",
              "      <th>Age</th>\n",
              "      <th>Outcome</th>\n",
              "    </tr>\n",
              "  </thead>\n",
              "  <tbody>\n",
              "    <tr>\n",
              "      <th>0</th>\n",
              "      <td>6</td>\n",
              "      <td>148</td>\n",
              "      <td>72</td>\n",
              "      <td>35</td>\n",
              "      <td>0</td>\n",
              "      <td>33.6</td>\n",
              "      <td>0.627</td>\n",
              "      <td>50</td>\n",
              "      <td>1</td>\n",
              "    </tr>\n",
              "    <tr>\n",
              "      <th>1</th>\n",
              "      <td>1</td>\n",
              "      <td>85</td>\n",
              "      <td>66</td>\n",
              "      <td>29</td>\n",
              "      <td>0</td>\n",
              "      <td>26.6</td>\n",
              "      <td>0.351</td>\n",
              "      <td>31</td>\n",
              "      <td>0</td>\n",
              "    </tr>\n",
              "    <tr>\n",
              "      <th>2</th>\n",
              "      <td>8</td>\n",
              "      <td>183</td>\n",
              "      <td>64</td>\n",
              "      <td>0</td>\n",
              "      <td>0</td>\n",
              "      <td>23.3</td>\n",
              "      <td>0.672</td>\n",
              "      <td>32</td>\n",
              "      <td>1</td>\n",
              "    </tr>\n",
              "    <tr>\n",
              "      <th>3</th>\n",
              "      <td>1</td>\n",
              "      <td>89</td>\n",
              "      <td>66</td>\n",
              "      <td>23</td>\n",
              "      <td>94</td>\n",
              "      <td>28.1</td>\n",
              "      <td>0.167</td>\n",
              "      <td>21</td>\n",
              "      <td>0</td>\n",
              "    </tr>\n",
              "    <tr>\n",
              "      <th>4</th>\n",
              "      <td>0</td>\n",
              "      <td>137</td>\n",
              "      <td>40</td>\n",
              "      <td>35</td>\n",
              "      <td>168</td>\n",
              "      <td>43.1</td>\n",
              "      <td>2.288</td>\n",
              "      <td>33</td>\n",
              "      <td>1</td>\n",
              "    </tr>\n",
              "  </tbody>\n",
              "</table>\n",
              "</div>\n",
              "      <button class=\"colab-df-convert\" onclick=\"convertToInteractive('df-bd18adc6-b556-462f-b168-7497a3f80935')\"\n",
              "              title=\"Convert this dataframe to an interactive table.\"\n",
              "              style=\"display:none;\">\n",
              "        \n",
              "  <svg xmlns=\"http://www.w3.org/2000/svg\" height=\"24px\"viewBox=\"0 0 24 24\"\n",
              "       width=\"24px\">\n",
              "    <path d=\"M0 0h24v24H0V0z\" fill=\"none\"/>\n",
              "    <path d=\"M18.56 5.44l.94 2.06.94-2.06 2.06-.94-2.06-.94-.94-2.06-.94 2.06-2.06.94zm-11 1L8.5 8.5l.94-2.06 2.06-.94-2.06-.94L8.5 2.5l-.94 2.06-2.06.94zm10 10l.94 2.06.94-2.06 2.06-.94-2.06-.94-.94-2.06-.94 2.06-2.06.94z\"/><path d=\"M17.41 7.96l-1.37-1.37c-.4-.4-.92-.59-1.43-.59-.52 0-1.04.2-1.43.59L10.3 9.45l-7.72 7.72c-.78.78-.78 2.05 0 2.83L4 21.41c.39.39.9.59 1.41.59.51 0 1.02-.2 1.41-.59l7.78-7.78 2.81-2.81c.8-.78.8-2.07 0-2.86zM5.41 20L4 18.59l7.72-7.72 1.47 1.35L5.41 20z\"/>\n",
              "  </svg>\n",
              "      </button>\n",
              "      \n",
              "  <style>\n",
              "    .colab-df-container {\n",
              "      display:flex;\n",
              "      flex-wrap:wrap;\n",
              "      gap: 12px;\n",
              "    }\n",
              "\n",
              "    .colab-df-convert {\n",
              "      background-color: #E8F0FE;\n",
              "      border: none;\n",
              "      border-radius: 50%;\n",
              "      cursor: pointer;\n",
              "      display: none;\n",
              "      fill: #1967D2;\n",
              "      height: 32px;\n",
              "      padding: 0 0 0 0;\n",
              "      width: 32px;\n",
              "    }\n",
              "\n",
              "    .colab-df-convert:hover {\n",
              "      background-color: #E2EBFA;\n",
              "      box-shadow: 0px 1px 2px rgba(60, 64, 67, 0.3), 0px 1px 3px 1px rgba(60, 64, 67, 0.15);\n",
              "      fill: #174EA6;\n",
              "    }\n",
              "\n",
              "    [theme=dark] .colab-df-convert {\n",
              "      background-color: #3B4455;\n",
              "      fill: #D2E3FC;\n",
              "    }\n",
              "\n",
              "    [theme=dark] .colab-df-convert:hover {\n",
              "      background-color: #434B5C;\n",
              "      box-shadow: 0px 1px 3px 1px rgba(0, 0, 0, 0.15);\n",
              "      filter: drop-shadow(0px 1px 2px rgba(0, 0, 0, 0.3));\n",
              "      fill: #FFFFFF;\n",
              "    }\n",
              "  </style>\n",
              "\n",
              "      <script>\n",
              "        const buttonEl =\n",
              "          document.querySelector('#df-bd18adc6-b556-462f-b168-7497a3f80935 button.colab-df-convert');\n",
              "        buttonEl.style.display =\n",
              "          google.colab.kernel.accessAllowed ? 'block' : 'none';\n",
              "\n",
              "        async function convertToInteractive(key) {\n",
              "          const element = document.querySelector('#df-bd18adc6-b556-462f-b168-7497a3f80935');\n",
              "          const dataTable =\n",
              "            await google.colab.kernel.invokeFunction('convertToInteractive',\n",
              "                                                     [key], {});\n",
              "          if (!dataTable) return;\n",
              "\n",
              "          const docLinkHtml = 'Like what you see? Visit the ' +\n",
              "            '<a target=\"_blank\" href=https://colab.research.google.com/notebooks/data_table.ipynb>data table notebook</a>'\n",
              "            + ' to learn more about interactive tables.';\n",
              "          element.innerHTML = '';\n",
              "          dataTable['output_type'] = 'display_data';\n",
              "          await google.colab.output.renderOutput(dataTable, element);\n",
              "          const docLink = document.createElement('div');\n",
              "          docLink.innerHTML = docLinkHtml;\n",
              "          element.appendChild(docLink);\n",
              "        }\n",
              "      </script>\n",
              "    </div>\n",
              "  </div>\n",
              "  "
            ]
          },
          "metadata": {},
          "execution_count": 128
        }
      ]
    },
    {
      "cell_type": "code",
      "source": [
        "x = data.drop(\"Outcome\", axis=1).to_numpy()\n",
        "y = data.Outcome"
      ],
      "metadata": {
        "id": "tpozZqURa6Jo"
      },
      "execution_count": null,
      "outputs": []
    },
    {
      "cell_type": "code",
      "source": [
        "x_train, x_test, y_train, y_test = train_test_split(x, y, test_size=0.2)"
      ],
      "metadata": {
        "id": "we3Um3DPbEOQ"
      },
      "execution_count": null,
      "outputs": []
    },
    {
      "cell_type": "code",
      "source": [
        "x_train.shape, y_train.shape, x_test.shape, y_test.shape"
      ],
      "metadata": {
        "colab": {
          "base_uri": "https://localhost:8080/"
        },
        "id": "P5pZxHd8bZBh",
        "outputId": "5abaeb15-7ab0-48c0-a7b3-b967f710edc0"
      },
      "execution_count": null,
      "outputs": [
        {
          "output_type": "execute_result",
          "data": {
            "text/plain": [
              "((614, 8), (614,), (154, 8), (154,))"
            ]
          },
          "metadata": {},
          "execution_count": 131
        }
      ]
    },
    {
      "cell_type": "code",
      "source": [
        "scaler = StandardScaler()\n",
        "x_train = scaler.fit_transform(x_train)\n",
        "x_test = scaler.transform(x_test)"
      ],
      "metadata": {
        "id": "bip4X2krbfOX"
      },
      "execution_count": null,
      "outputs": []
    },
    {
      "cell_type": "code",
      "source": [
        "input = x_train[0].shape\n",
        "x_train[0]"
      ],
      "metadata": {
        "colab": {
          "base_uri": "https://localhost:8080/"
        },
        "id": "kd_PenoacU7E",
        "outputId": "f74635b9-2b55-45c0-a246-a360f1a50a17"
      },
      "execution_count": null,
      "outputs": [
        {
          "output_type": "execute_result",
          "data": {
            "text/plain": [
              "array([-1.12344195, -0.11202333, -0.27119291,  0.15268781,  0.06135383,\n",
              "       -4.10033297,  3.80594713, -1.03163207])"
            ]
          },
          "metadata": {},
          "execution_count": 133
        }
      ]
    },
    {
      "cell_type": "code",
      "source": [
        "model = tf.keras.Sequential([\n",
        "    tf.keras.layers.Input(input),\n",
        "    tf.keras.layers.Dense(32, activation=\"relu\"),\n",
        "    tf.keras.layers.Dense(64, activation=\"relu\"),\n",
        "    tf.keras.layers.Dense(1, activation=\"sigmoid\")\n",
        "])"
      ],
      "metadata": {
        "id": "LzV2g-RvctD9"
      },
      "execution_count": null,
      "outputs": []
    },
    {
      "cell_type": "code",
      "source": [
        "model.compile(loss=\"binary_crossentropy\",\n",
        "              optimizer=tf.keras.optimizers.SGD(0.01),\n",
        "              metrics=[\"accuracy\"])"
      ],
      "metadata": {
        "id": "pO1m6ZtJh59_"
      },
      "execution_count": null,
      "outputs": []
    },
    {
      "cell_type": "code",
      "source": [
        "r = model.fit(x_train, y_train, validation_data=(x_test, y_test),\n",
        "              epochs=100)"
      ],
      "metadata": {
        "colab": {
          "base_uri": "https://localhost:8080/"
        },
        "id": "Ov-sqto7iBrv",
        "outputId": "f9732f55-e323-4029-8812-fa3bfc0d3dfa"
      },
      "execution_count": null,
      "outputs": [
        {
          "output_type": "stream",
          "name": "stdout",
          "text": [
            "Epoch 1/100\n",
            "20/20 [==============================] - 1s 10ms/step - loss: 0.7153 - accuracy: 0.4805 - val_loss: 0.6836 - val_accuracy: 0.5974\n",
            "Epoch 2/100\n",
            "20/20 [==============================] - 0s 3ms/step - loss: 0.6900 - accuracy: 0.5765 - val_loss: 0.6554 - val_accuracy: 0.6299\n",
            "Epoch 3/100\n",
            "20/20 [==============================] - 0s 3ms/step - loss: 0.6694 - accuracy: 0.6221 - val_loss: 0.6339 - val_accuracy: 0.6688\n",
            "Epoch 4/100\n",
            "20/20 [==============================] - 0s 3ms/step - loss: 0.6524 - accuracy: 0.6401 - val_loss: 0.6139 - val_accuracy: 0.6948\n",
            "Epoch 5/100\n",
            "20/20 [==============================] - 0s 3ms/step - loss: 0.6373 - accuracy: 0.6580 - val_loss: 0.5961 - val_accuracy: 0.7013\n",
            "Epoch 6/100\n",
            "20/20 [==============================] - 0s 3ms/step - loss: 0.6242 - accuracy: 0.6612 - val_loss: 0.5819 - val_accuracy: 0.7468\n",
            "Epoch 7/100\n",
            "20/20 [==============================] - 0s 3ms/step - loss: 0.6124 - accuracy: 0.6743 - val_loss: 0.5697 - val_accuracy: 0.7792\n",
            "Epoch 8/100\n",
            "20/20 [==============================] - 0s 3ms/step - loss: 0.6027 - accuracy: 0.6743 - val_loss: 0.5587 - val_accuracy: 0.7922\n",
            "Epoch 9/100\n",
            "20/20 [==============================] - 0s 3ms/step - loss: 0.5939 - accuracy: 0.6840 - val_loss: 0.5475 - val_accuracy: 0.7987\n",
            "Epoch 10/100\n",
            "20/20 [==============================] - 0s 3ms/step - loss: 0.5858 - accuracy: 0.6824 - val_loss: 0.5402 - val_accuracy: 0.8052\n",
            "Epoch 11/100\n",
            "20/20 [==============================] - 0s 3ms/step - loss: 0.5772 - accuracy: 0.7020 - val_loss: 0.5309 - val_accuracy: 0.8052\n",
            "Epoch 12/100\n",
            "20/20 [==============================] - 0s 3ms/step - loss: 0.5698 - accuracy: 0.7052 - val_loss: 0.5221 - val_accuracy: 0.7922\n",
            "Epoch 13/100\n",
            "20/20 [==============================] - 0s 3ms/step - loss: 0.5628 - accuracy: 0.7117 - val_loss: 0.5150 - val_accuracy: 0.7857\n",
            "Epoch 14/100\n",
            "20/20 [==============================] - 0s 4ms/step - loss: 0.5567 - accuracy: 0.7199 - val_loss: 0.5093 - val_accuracy: 0.7792\n",
            "Epoch 15/100\n",
            "20/20 [==============================] - 0s 3ms/step - loss: 0.5506 - accuracy: 0.7199 - val_loss: 0.5034 - val_accuracy: 0.7792\n",
            "Epoch 16/100\n",
            "20/20 [==============================] - 0s 3ms/step - loss: 0.5452 - accuracy: 0.7329 - val_loss: 0.4972 - val_accuracy: 0.7792\n",
            "Epoch 17/100\n",
            "20/20 [==============================] - 0s 4ms/step - loss: 0.5398 - accuracy: 0.7378 - val_loss: 0.4940 - val_accuracy: 0.7792\n",
            "Epoch 18/100\n",
            "20/20 [==============================] - 0s 3ms/step - loss: 0.5353 - accuracy: 0.7427 - val_loss: 0.4887 - val_accuracy: 0.7857\n",
            "Epoch 19/100\n",
            "20/20 [==============================] - 0s 3ms/step - loss: 0.5309 - accuracy: 0.7410 - val_loss: 0.4838 - val_accuracy: 0.7922\n",
            "Epoch 20/100\n",
            "20/20 [==============================] - 0s 3ms/step - loss: 0.5268 - accuracy: 0.7427 - val_loss: 0.4818 - val_accuracy: 0.7727\n",
            "Epoch 21/100\n",
            "20/20 [==============================] - 0s 4ms/step - loss: 0.5232 - accuracy: 0.7557 - val_loss: 0.4801 - val_accuracy: 0.7727\n",
            "Epoch 22/100\n",
            "20/20 [==============================] - 0s 3ms/step - loss: 0.5196 - accuracy: 0.7557 - val_loss: 0.4768 - val_accuracy: 0.7727\n",
            "Epoch 23/100\n",
            "20/20 [==============================] - 0s 3ms/step - loss: 0.5164 - accuracy: 0.7557 - val_loss: 0.4734 - val_accuracy: 0.7727\n",
            "Epoch 24/100\n",
            "20/20 [==============================] - 0s 3ms/step - loss: 0.5132 - accuracy: 0.7541 - val_loss: 0.4705 - val_accuracy: 0.7727\n",
            "Epoch 25/100\n",
            "20/20 [==============================] - 0s 3ms/step - loss: 0.5103 - accuracy: 0.7606 - val_loss: 0.4673 - val_accuracy: 0.7662\n",
            "Epoch 26/100\n",
            "20/20 [==============================] - 0s 3ms/step - loss: 0.5078 - accuracy: 0.7638 - val_loss: 0.4645 - val_accuracy: 0.7792\n",
            "Epoch 27/100\n",
            "20/20 [==============================] - 0s 3ms/step - loss: 0.5054 - accuracy: 0.7622 - val_loss: 0.4624 - val_accuracy: 0.7727\n",
            "Epoch 28/100\n",
            "20/20 [==============================] - 0s 3ms/step - loss: 0.5029 - accuracy: 0.7638 - val_loss: 0.4605 - val_accuracy: 0.7857\n",
            "Epoch 29/100\n",
            "20/20 [==============================] - 0s 3ms/step - loss: 0.5010 - accuracy: 0.7655 - val_loss: 0.4604 - val_accuracy: 0.7857\n",
            "Epoch 30/100\n",
            "20/20 [==============================] - 0s 3ms/step - loss: 0.4991 - accuracy: 0.7655 - val_loss: 0.4587 - val_accuracy: 0.7857\n",
            "Epoch 31/100\n",
            "20/20 [==============================] - 0s 5ms/step - loss: 0.4973 - accuracy: 0.7671 - val_loss: 0.4576 - val_accuracy: 0.7857\n",
            "Epoch 32/100\n",
            "20/20 [==============================] - 0s 3ms/step - loss: 0.4957 - accuracy: 0.7606 - val_loss: 0.4569 - val_accuracy: 0.7857\n",
            "Epoch 33/100\n",
            "20/20 [==============================] - 0s 3ms/step - loss: 0.4939 - accuracy: 0.7638 - val_loss: 0.4569 - val_accuracy: 0.7857\n",
            "Epoch 34/100\n",
            "20/20 [==============================] - 0s 3ms/step - loss: 0.4922 - accuracy: 0.7590 - val_loss: 0.4557 - val_accuracy: 0.7857\n",
            "Epoch 35/100\n",
            "20/20 [==============================] - 0s 3ms/step - loss: 0.4908 - accuracy: 0.7606 - val_loss: 0.4522 - val_accuracy: 0.7922\n",
            "Epoch 36/100\n",
            "20/20 [==============================] - 0s 4ms/step - loss: 0.4891 - accuracy: 0.7622 - val_loss: 0.4510 - val_accuracy: 0.7922\n",
            "Epoch 37/100\n",
            "20/20 [==============================] - 0s 3ms/step - loss: 0.4880 - accuracy: 0.7622 - val_loss: 0.4501 - val_accuracy: 0.7922\n",
            "Epoch 38/100\n",
            "20/20 [==============================] - 0s 3ms/step - loss: 0.4867 - accuracy: 0.7622 - val_loss: 0.4495 - val_accuracy: 0.7922\n",
            "Epoch 39/100\n",
            "20/20 [==============================] - 0s 3ms/step - loss: 0.4853 - accuracy: 0.7671 - val_loss: 0.4486 - val_accuracy: 0.7922\n",
            "Epoch 40/100\n",
            "20/20 [==============================] - 0s 3ms/step - loss: 0.4842 - accuracy: 0.7720 - val_loss: 0.4488 - val_accuracy: 0.7792\n",
            "Epoch 41/100\n",
            "20/20 [==============================] - 0s 3ms/step - loss: 0.4832 - accuracy: 0.7736 - val_loss: 0.4490 - val_accuracy: 0.7792\n",
            "Epoch 42/100\n",
            "20/20 [==============================] - 0s 3ms/step - loss: 0.4820 - accuracy: 0.7736 - val_loss: 0.4513 - val_accuracy: 0.7727\n",
            "Epoch 43/100\n",
            "20/20 [==============================] - 0s 3ms/step - loss: 0.4810 - accuracy: 0.7720 - val_loss: 0.4504 - val_accuracy: 0.7727\n",
            "Epoch 44/100\n",
            "20/20 [==============================] - 0s 3ms/step - loss: 0.4800 - accuracy: 0.7687 - val_loss: 0.4506 - val_accuracy: 0.7727\n",
            "Epoch 45/100\n",
            "20/20 [==============================] - 0s 4ms/step - loss: 0.4794 - accuracy: 0.7720 - val_loss: 0.4528 - val_accuracy: 0.7727\n",
            "Epoch 46/100\n",
            "20/20 [==============================] - 0s 3ms/step - loss: 0.4785 - accuracy: 0.7687 - val_loss: 0.4516 - val_accuracy: 0.7727\n",
            "Epoch 47/100\n",
            "20/20 [==============================] - 0s 3ms/step - loss: 0.4778 - accuracy: 0.7704 - val_loss: 0.4512 - val_accuracy: 0.7792\n",
            "Epoch 48/100\n",
            "20/20 [==============================] - 0s 3ms/step - loss: 0.4768 - accuracy: 0.7704 - val_loss: 0.4497 - val_accuracy: 0.7792\n",
            "Epoch 49/100\n",
            "20/20 [==============================] - 0s 3ms/step - loss: 0.4763 - accuracy: 0.7704 - val_loss: 0.4488 - val_accuracy: 0.7792\n",
            "Epoch 50/100\n",
            "20/20 [==============================] - 0s 3ms/step - loss: 0.4753 - accuracy: 0.7720 - val_loss: 0.4492 - val_accuracy: 0.7792\n",
            "Epoch 51/100\n",
            "20/20 [==============================] - 0s 3ms/step - loss: 0.4748 - accuracy: 0.7720 - val_loss: 0.4480 - val_accuracy: 0.7792\n",
            "Epoch 52/100\n",
            "20/20 [==============================] - 0s 3ms/step - loss: 0.4743 - accuracy: 0.7671 - val_loss: 0.4469 - val_accuracy: 0.7792\n",
            "Epoch 53/100\n",
            "20/20 [==============================] - 0s 3ms/step - loss: 0.4734 - accuracy: 0.7671 - val_loss: 0.4461 - val_accuracy: 0.7792\n",
            "Epoch 54/100\n",
            "20/20 [==============================] - 0s 3ms/step - loss: 0.4729 - accuracy: 0.7687 - val_loss: 0.4481 - val_accuracy: 0.7792\n",
            "Epoch 55/100\n",
            "20/20 [==============================] - 0s 2ms/step - loss: 0.4723 - accuracy: 0.7655 - val_loss: 0.4471 - val_accuracy: 0.7792\n",
            "Epoch 56/100\n",
            "20/20 [==============================] - 0s 2ms/step - loss: 0.4719 - accuracy: 0.7671 - val_loss: 0.4470 - val_accuracy: 0.7792\n",
            "Epoch 57/100\n",
            "20/20 [==============================] - 0s 3ms/step - loss: 0.4710 - accuracy: 0.7704 - val_loss: 0.4489 - val_accuracy: 0.7792\n",
            "Epoch 58/100\n",
            "20/20 [==============================] - 0s 3ms/step - loss: 0.4707 - accuracy: 0.7704 - val_loss: 0.4469 - val_accuracy: 0.7792\n",
            "Epoch 59/100\n",
            "20/20 [==============================] - 0s 3ms/step - loss: 0.4701 - accuracy: 0.7671 - val_loss: 0.4462 - val_accuracy: 0.7792\n",
            "Epoch 60/100\n",
            "20/20 [==============================] - 0s 4ms/step - loss: 0.4695 - accuracy: 0.7655 - val_loss: 0.4467 - val_accuracy: 0.7792\n",
            "Epoch 61/100\n",
            "20/20 [==============================] - 0s 4ms/step - loss: 0.4688 - accuracy: 0.7687 - val_loss: 0.4472 - val_accuracy: 0.7727\n",
            "Epoch 62/100\n",
            "20/20 [==============================] - 0s 3ms/step - loss: 0.4685 - accuracy: 0.7687 - val_loss: 0.4476 - val_accuracy: 0.7727\n",
            "Epoch 63/100\n",
            "20/20 [==============================] - 0s 3ms/step - loss: 0.4680 - accuracy: 0.7671 - val_loss: 0.4478 - val_accuracy: 0.7792\n",
            "Epoch 64/100\n",
            "20/20 [==============================] - 0s 3ms/step - loss: 0.4674 - accuracy: 0.7671 - val_loss: 0.4473 - val_accuracy: 0.7792\n",
            "Epoch 65/100\n",
            "20/20 [==============================] - 0s 3ms/step - loss: 0.4668 - accuracy: 0.7704 - val_loss: 0.4499 - val_accuracy: 0.7727\n",
            "Epoch 66/100\n",
            "20/20 [==============================] - 0s 3ms/step - loss: 0.4665 - accuracy: 0.7638 - val_loss: 0.4494 - val_accuracy: 0.7727\n",
            "Epoch 67/100\n",
            "20/20 [==============================] - 0s 4ms/step - loss: 0.4661 - accuracy: 0.7638 - val_loss: 0.4486 - val_accuracy: 0.7792\n",
            "Epoch 68/100\n",
            "20/20 [==============================] - 0s 3ms/step - loss: 0.4656 - accuracy: 0.7655 - val_loss: 0.4474 - val_accuracy: 0.7857\n",
            "Epoch 69/100\n",
            "20/20 [==============================] - 0s 2ms/step - loss: 0.4652 - accuracy: 0.7687 - val_loss: 0.4491 - val_accuracy: 0.7857\n",
            "Epoch 70/100\n",
            "20/20 [==============================] - 0s 3ms/step - loss: 0.4649 - accuracy: 0.7671 - val_loss: 0.4485 - val_accuracy: 0.7922\n",
            "Epoch 71/100\n",
            "20/20 [==============================] - 0s 3ms/step - loss: 0.4644 - accuracy: 0.7687 - val_loss: 0.4485 - val_accuracy: 0.7857\n",
            "Epoch 72/100\n",
            "20/20 [==============================] - 0s 4ms/step - loss: 0.4640 - accuracy: 0.7671 - val_loss: 0.4476 - val_accuracy: 0.7857\n",
            "Epoch 73/100\n",
            "20/20 [==============================] - 0s 2ms/step - loss: 0.4636 - accuracy: 0.7655 - val_loss: 0.4476 - val_accuracy: 0.7922\n",
            "Epoch 74/100\n",
            "20/20 [==============================] - 0s 3ms/step - loss: 0.4633 - accuracy: 0.7655 - val_loss: 0.4473 - val_accuracy: 0.7922\n",
            "Epoch 75/100\n",
            "20/20 [==============================] - 0s 3ms/step - loss: 0.4630 - accuracy: 0.7671 - val_loss: 0.4470 - val_accuracy: 0.7987\n",
            "Epoch 76/100\n",
            "20/20 [==============================] - 0s 3ms/step - loss: 0.4628 - accuracy: 0.7687 - val_loss: 0.4461 - val_accuracy: 0.7987\n",
            "Epoch 77/100\n",
            "20/20 [==============================] - 0s 3ms/step - loss: 0.4621 - accuracy: 0.7687 - val_loss: 0.4457 - val_accuracy: 0.7987\n",
            "Epoch 78/100\n",
            "20/20 [==============================] - 0s 3ms/step - loss: 0.4618 - accuracy: 0.7687 - val_loss: 0.4458 - val_accuracy: 0.7922\n",
            "Epoch 79/100\n",
            "20/20 [==============================] - 0s 3ms/step - loss: 0.4616 - accuracy: 0.7671 - val_loss: 0.4450 - val_accuracy: 0.7922\n",
            "Epoch 80/100\n",
            "20/20 [==============================] - 0s 3ms/step - loss: 0.4610 - accuracy: 0.7687 - val_loss: 0.4455 - val_accuracy: 0.7987\n",
            "Epoch 81/100\n",
            "20/20 [==============================] - 0s 3ms/step - loss: 0.4606 - accuracy: 0.7687 - val_loss: 0.4461 - val_accuracy: 0.7987\n",
            "Epoch 82/100\n",
            "20/20 [==============================] - 0s 3ms/step - loss: 0.4603 - accuracy: 0.7671 - val_loss: 0.4475 - val_accuracy: 0.7987\n",
            "Epoch 83/100\n",
            "20/20 [==============================] - 0s 3ms/step - loss: 0.4601 - accuracy: 0.7671 - val_loss: 0.4467 - val_accuracy: 0.7987\n",
            "Epoch 84/100\n",
            "20/20 [==============================] - 0s 3ms/step - loss: 0.4598 - accuracy: 0.7687 - val_loss: 0.4453 - val_accuracy: 0.7987\n",
            "Epoch 85/100\n",
            "20/20 [==============================] - 0s 3ms/step - loss: 0.4594 - accuracy: 0.7687 - val_loss: 0.4456 - val_accuracy: 0.7987\n",
            "Epoch 86/100\n",
            "20/20 [==============================] - 0s 3ms/step - loss: 0.4590 - accuracy: 0.7704 - val_loss: 0.4482 - val_accuracy: 0.7922\n",
            "Epoch 87/100\n",
            "20/20 [==============================] - 0s 3ms/step - loss: 0.4587 - accuracy: 0.7704 - val_loss: 0.4487 - val_accuracy: 0.7922\n",
            "Epoch 88/100\n",
            "20/20 [==============================] - 0s 3ms/step - loss: 0.4583 - accuracy: 0.7704 - val_loss: 0.4473 - val_accuracy: 0.7922\n",
            "Epoch 89/100\n",
            "20/20 [==============================] - 0s 3ms/step - loss: 0.4580 - accuracy: 0.7736 - val_loss: 0.4488 - val_accuracy: 0.7922\n",
            "Epoch 90/100\n",
            "20/20 [==============================] - 0s 3ms/step - loss: 0.4578 - accuracy: 0.7704 - val_loss: 0.4482 - val_accuracy: 0.7922\n",
            "Epoch 91/100\n",
            "20/20 [==============================] - 0s 3ms/step - loss: 0.4572 - accuracy: 0.7704 - val_loss: 0.4474 - val_accuracy: 0.7922\n",
            "Epoch 92/100\n",
            "20/20 [==============================] - 0s 3ms/step - loss: 0.4570 - accuracy: 0.7704 - val_loss: 0.4479 - val_accuracy: 0.7922\n",
            "Epoch 93/100\n",
            "20/20 [==============================] - 0s 3ms/step - loss: 0.4567 - accuracy: 0.7720 - val_loss: 0.4456 - val_accuracy: 0.7922\n",
            "Epoch 94/100\n",
            "20/20 [==============================] - 0s 4ms/step - loss: 0.4563 - accuracy: 0.7769 - val_loss: 0.4451 - val_accuracy: 0.7922\n",
            "Epoch 95/100\n",
            "20/20 [==============================] - 0s 3ms/step - loss: 0.4560 - accuracy: 0.7785 - val_loss: 0.4458 - val_accuracy: 0.7922\n",
            "Epoch 96/100\n",
            "20/20 [==============================] - 0s 3ms/step - loss: 0.4557 - accuracy: 0.7785 - val_loss: 0.4485 - val_accuracy: 0.7857\n",
            "Epoch 97/100\n",
            "20/20 [==============================] - 0s 2ms/step - loss: 0.4555 - accuracy: 0.7785 - val_loss: 0.4488 - val_accuracy: 0.7857\n",
            "Epoch 98/100\n",
            "20/20 [==============================] - 0s 3ms/step - loss: 0.4551 - accuracy: 0.7736 - val_loss: 0.4477 - val_accuracy: 0.7857\n",
            "Epoch 99/100\n",
            "20/20 [==============================] - 0s 4ms/step - loss: 0.4548 - accuracy: 0.7769 - val_loss: 0.4470 - val_accuracy: 0.7857\n",
            "Epoch 100/100\n",
            "20/20 [==============================] - 0s 3ms/step - loss: 0.4542 - accuracy: 0.7752 - val_loss: 0.4455 - val_accuracy: 0.7987\n"
          ]
        }
      ]
    },
    {
      "cell_type": "code",
      "source": [
        "print(\"Train set evaluation: \", model.evaluate(x_train, y_train))\n",
        "print(\"Test set evaluation: \", model.evaluate(x_test, y_test))"
      ],
      "metadata": {
        "colab": {
          "base_uri": "https://localhost:8080/"
        },
        "id": "oewiLqhliIeJ",
        "outputId": "f8f466d8-3ab1-44f6-bc5d-ee5a7e2e4a9e"
      },
      "execution_count": null,
      "outputs": [
        {
          "output_type": "stream",
          "name": "stdout",
          "text": [
            "20/20 [==============================] - 0s 1ms/step - loss: 0.4534 - accuracy: 0.7801\n",
            "Train set evaluation:  [0.4533945322036743, 0.7801302671432495]\n",
            "5/5 [==============================] - 0s 3ms/step - loss: 0.4455 - accuracy: 0.7987\n",
            "Test set evaluation:  [0.44551369547843933, 0.798701286315918]\n"
          ]
        }
      ]
    },
    {
      "cell_type": "code",
      "source": [
        "plt.figure(figsize=(10, 7))\n",
        "plt.plot(r.history[\"loss\"], label=\"loss\")\n",
        "plt.plot(r.history[\"val_loss\"], label=\"val_loss\")\n",
        "plt.legend();"
      ],
      "metadata": {
        "colab": {
          "base_uri": "https://localhost:8080/",
          "height": 428
        },
        "id": "TxQczL3Lj_b8",
        "outputId": "7c443801-33cc-4701-ae09-4bcc374ba80f"
      },
      "execution_count": null,
      "outputs": [
        {
          "output_type": "display_data",
          "data": {
            "text/plain": [
              "<Figure size 720x504 with 1 Axes>"
            ],
            "image/png": "[encoded data removed]"
          },
          "metadata": {
            "needs_background": "light"
          }
        }
      ]
    },
    {
      "cell_type": "code",
      "source": [
        "plt.figure(figsize=(10,7))\n",
        "plt.plot(r.history[\"accuracy\"], label=\"accuracy\")\n",
        "plt.plot(r.history[\"val_accuracy\"], label=\"val_accuracy\")\n",
        "plt.legend();"
      ],
      "metadata": {
        "colab": {
          "base_uri": "https://localhost:8080/",
          "height": 428
        },
        "id": "GkVcYNSZkEOt",
        "outputId": "9ff90475-8179-4c7e-923b-0f5ab2b5b4a8"
      },
      "execution_count": null,
      "outputs": [
        {
          "output_type": "display_data",
          "data": {
            "text/plain": [
              "<Figure size 720x504 with 1 Axes>"
            ],
            "image/png": "[encoded data removed]"
          },
          "metadata": {
            "needs_background": "light"
          }
        }
      ]
    },
    {
      "cell_type": "markdown",
      "source": [
        "# Regression theorie"
      ],
      "metadata": {
        "id": "VB_imROCkV0O"
      }
    },
    {
      "cell_type": "markdown",
      "source": [
        "## Regression notebook"
      ],
      "metadata": {
        "id": "arkPk0OlnyMq"
      }
    },
    {
      "cell_type": "code",
      "source": [
        "!wget https://raw.githubusercontent.com/lazyprogrammer/machine_learning_examples/master/tf2.0/moore.csv"
      ],
      "metadata": {
        "colab": {
          "base_uri": "https://localhost:8080/"
        },
        "id": "WK6MRZhRn0BT",
        "outputId": "affb54cd-8b8d-49b0-81f6-2a1b73028a39"
      },
      "execution_count": null,
      "outputs": [
        {
          "output_type": "stream",
          "name": "stdout",
          "text": [
            "--2022-12-06 04:09:12--  https://raw.githubusercontent.com/lazyprogrammer/machine_learning_examples/master/tf2.0/moore.csv\n",
            "Resolving raw.githubusercontent.com (raw.githubusercontent.com)... 185.199.108.133, 185.199.109.133, 185.199.110.133, ...\n",
            "Connecting to raw.githubusercontent.com (raw.githubusercontent.com)|185.199.108.133|:443... connected.\n",
            "HTTP request sent, awaiting response... 200 OK\n",
            "Length: 2302 (2.2K) [text/plain]\n",
            "Saving to: ‘moore.csv’\n",
            "\n",
            "\rmoore.csv             0%[                    ]       0  --.-KB/s               \rmoore.csv           100%[===================>]   2.25K  --.-KB/s    in 0s      \n",
            "\n",
            "2022-12-06 04:09:12 (21.7 MB/s) - ‘moore.csv’ saved [2302/2302]\n",
            "\n"
          ]
        }
      ]
    },
    {
      "cell_type": "code",
      "source": [
        "data = pd.read_csv(\"moore.csv\", header=None).values"
      ],
      "metadata": {
        "id": "VUx4IcUPn49d"
      },
      "execution_count": null,
      "outputs": []
    },
    {
      "cell_type": "code",
      "source": [
        "data[:5]"
      ],
      "metadata": {
        "colab": {
          "base_uri": "https://localhost:8080/"
        },
        "id": "SvvoVZPWn9m0",
        "outputId": "02b1e445-2edd-4850-c379-6435aed083ef"
      },
      "execution_count": null,
      "outputs": [
        {
          "output_type": "execute_result",
          "data": {
            "text/plain": [
              "array([[1971, 2300],\n",
              "       [1972, 3500],\n",
              "       [1973, 2500],\n",
              "       [1973, 2500],\n",
              "       [1974, 4100]])"
            ]
          },
          "metadata": {},
          "execution_count": 261
        }
      ]
    },
    {
      "cell_type": "code",
      "source": [
        "x = data[:,0].reshape(-1, 1)\n",
        "y = data[:,1]"
      ],
      "metadata": {
        "id": "6x-CdYW0n-o7"
      },
      "execution_count": null,
      "outputs": []
    },
    {
      "cell_type": "code",
      "source": [
        "x[:5], y[:5]"
      ],
      "metadata": {
        "colab": {
          "base_uri": "https://localhost:8080/"
        },
        "id": "Nb5yZe0KoHwP",
        "outputId": "b4414cef-6f4a-4f41-ec8d-7baa3a05ec7a"
      },
      "execution_count": null,
      "outputs": [
        {
          "output_type": "execute_result",
          "data": {
            "text/plain": [
              "(array([[1971],\n",
              "        [1972],\n",
              "        [1973],\n",
              "        [1973],\n",
              "        [1974]]), array([2300, 3500, 2500, 2500, 4100]))"
            ]
          },
          "metadata": {},
          "execution_count": 263
        }
      ]
    },
    {
      "cell_type": "code",
      "source": [
        "plt.scatter(x, y);"
      ],
      "metadata": {
        "colab": {
          "base_uri": "https://localhost:8080/",
          "height": 276
        },
        "id": "18j5ofTYoXkP",
        "outputId": "6685d5a5-9953-424f-e6f9-26116cdcf7fc"
      },
      "execution_count": null,
      "outputs": [
        {
          "output_type": "display_data",
          "data": {
            "text/plain": [
              "<Figure size 432x288 with 1 Axes>"
            ],
            "image/png": "[encoded data removed]"
          },
          "metadata": {
            "needs_background": "light"
          }
        }
      ]
    },
    {
      "cell_type": "code",
      "source": [
        "import numpy as np\n",
        "y = np.log(y)"
      ],
      "metadata": {
        "id": "eBT-vd3eoeJT"
      },
      "execution_count": null,
      "outputs": []
    },
    {
      "cell_type": "code",
      "source": [
        "plt.scatter(x, y);"
      ],
      "metadata": {
        "colab": {
          "base_uri": "https://localhost:8080/",
          "height": 265
        },
        "id": "RulTT94Vog0w",
        "outputId": "6b590349-4b6b-4387-abcf-95769c60a719"
      },
      "execution_count": null,
      "outputs": [
        {
          "output_type": "display_data",
          "data": {
            "text/plain": [
              "<Figure size 432x288 with 1 Axes>"
            ],
            "image/png": "[encoded data removed]"
          },
          "metadata": {
            "needs_background": "light"
          }
        }
      ]
    },
    {
      "cell_type": "code",
      "source": [
        "x = x - x.mean()"
      ],
      "metadata": {
        "id": "RYSVOIaLon5J"
      },
      "execution_count": null,
      "outputs": []
    },
    {
      "cell_type": "code",
      "source": [
        "model = tf.keras.Sequential([\n",
        "    tf.keras.layers.Input(shape=(1,)),\n",
        "    tf.keras.layers.Dense(1)\n",
        "])"
      ],
      "metadata": {
        "id": "VqL7quzwoqx3"
      },
      "execution_count": null,
      "outputs": []
    },
    {
      "cell_type": "code",
      "source": [
        "model.compile(loss=\"mse\", optimizer=tf.keras.optimizers.SGD(learning_rate=0.001, momentum=0.9))"
      ],
      "metadata": {
        "id": "geziF0oporhT"
      },
      "execution_count": null,
      "outputs": []
    },
    {
      "cell_type": "code",
      "source": [
        "def schedule(epoch, lr):\n",
        "  if epoch >= 50:\n",
        "    return 0.0001\n",
        "  return 0.001"
      ],
      "metadata": {
        "id": "sLXq-zY3pJHV"
      },
      "execution_count": null,
      "outputs": []
    },
    {
      "cell_type": "code",
      "source": [
        "scheduler = tf.keras.callbacks.LearningRateScheduler(schedule)"
      ],
      "metadata": {
        "id": "v-eqXZJxqP4b"
      },
      "execution_count": null,
      "outputs": []
    },
    {
      "cell_type": "code",
      "source": [
        "r = model.fit(x, y, epochs=200, callbacks=[scheduler])"
      ],
      "metadata": {
        "colab": {
          "base_uri": "https://localhost:8080/"
        },
        "id": "Imf1DxpeqWaT",
        "outputId": "3d2a8cf7-ade2-4e51-f986-15b08771ddac"
      },
      "execution_count": null,
      "outputs": [
        {
          "output_type": "stream",
          "name": "stdout",
          "text": [
            "Epoch 1/200\n",
            "6/6 [==============================] - 0s 2ms/step - loss: 323.6391 - lr: 0.0010\n",
            "Epoch 2/200\n",
            "6/6 [==============================] - 0s 3ms/step - loss: 300.1982 - lr: 0.0010\n",
            "Epoch 3/200\n",
            "6/6 [==============================] - 0s 2ms/step - loss: 305.9077 - lr: 0.0010\n",
            "Epoch 4/200\n",
            "6/6 [==============================] - 0s 3ms/step - loss: 235.3537 - lr: 0.0010\n",
            "Epoch 5/200\n",
            "6/6 [==============================] - 0s 2ms/step - loss: 155.4074 - lr: 0.0010\n",
            "Epoch 6/200\n",
            "6/6 [==============================] - 0s 3ms/step - loss: 124.8039 - lr: 0.0010\n",
            "Epoch 7/200\n",
            "6/6 [==============================] - 0s 2ms/step - loss: 97.6530 - lr: 0.0010\n",
            "Epoch 8/200\n",
            "6/6 [==============================] - 0s 2ms/step - loss: 75.4057 - lr: 0.0010\n",
            "Epoch 9/200\n",
            "6/6 [==============================] - 0s 3ms/step - loss: 51.1452 - lr: 0.0010\n",
            "Epoch 10/200\n",
            "6/6 [==============================] - 0s 2ms/step - loss: 34.3532 - lr: 0.0010\n",
            "Epoch 11/200\n",
            "6/6 [==============================] - 0s 3ms/step - loss: 25.3109 - lr: 0.0010\n",
            "Epoch 12/200\n",
            "6/6 [==============================] - 0s 2ms/step - loss: 18.3779 - lr: 0.0010\n",
            "Epoch 13/200\n",
            "6/6 [==============================] - 0s 2ms/step - loss: 13.8048 - lr: 0.0010\n",
            "Epoch 14/200\n",
            "6/6 [==============================] - 0s 2ms/step - loss: 11.1473 - lr: 0.0010\n",
            "Epoch 15/200\n",
            "6/6 [==============================] - 0s 2ms/step - loss: 8.8393 - lr: 0.0010\n",
            "Epoch 16/200\n",
            "6/6 [==============================] - 0s 2ms/step - loss: 10.7536 - lr: 0.0010\n",
            "Epoch 17/200\n",
            "6/6 [==============================] - 0s 2ms/step - loss: 9.5817 - lr: 0.0010\n",
            "Epoch 18/200\n",
            "6/6 [==============================] - 0s 2ms/step - loss: 4.8407 - lr: 0.0010\n",
            "Epoch 19/200\n",
            "6/6 [==============================] - 0s 2ms/step - loss: 4.1332 - lr: 0.0010\n",
            "Epoch 20/200\n",
            "6/6 [==============================] - 0s 2ms/step - loss: 2.8063 - lr: 0.0010\n",
            "Epoch 21/200\n",
            "6/6 [==============================] - 0s 3ms/step - loss: 2.4260 - lr: 0.0010\n",
            "Epoch 22/200\n",
            "6/6 [==============================] - 0s 2ms/step - loss: 2.7534 - lr: 0.0010\n",
            "Epoch 23/200\n",
            "6/6 [==============================] - 0s 2ms/step - loss: 2.0161 - lr: 0.0010\n",
            "Epoch 24/200\n",
            "6/6 [==============================] - 0s 2ms/step - loss: 1.5808 - lr: 0.0010\n",
            "Epoch 25/200\n",
            "6/6 [==============================] - 0s 2ms/step - loss: 1.3434 - lr: 0.0010\n",
            "Epoch 26/200\n",
            "6/6 [==============================] - 0s 2ms/step - loss: 1.0943 - lr: 0.0010\n",
            "Epoch 27/200\n",
            "6/6 [==============================] - 0s 2ms/step - loss: 1.1215 - lr: 0.0010\n",
            "Epoch 28/200\n",
            "6/6 [==============================] - 0s 2ms/step - loss: 1.2722 - lr: 0.0010\n",
            "Epoch 29/200\n",
            "6/6 [==============================] - 0s 2ms/step - loss: 1.1649 - lr: 0.0010\n",
            "Epoch 30/200\n",
            "6/6 [==============================] - 0s 3ms/step - loss: 1.0706 - lr: 0.0010\n",
            "Epoch 31/200\n",
            "6/6 [==============================] - 0s 3ms/step - loss: 1.1256 - lr: 0.0010\n",
            "Epoch 32/200\n",
            "6/6 [==============================] - 0s 3ms/step - loss: 1.2377 - lr: 0.0010\n",
            "Epoch 33/200\n",
            "6/6 [==============================] - 0s 2ms/step - loss: 1.1735 - lr: 0.0010\n",
            "Epoch 34/200\n",
            "6/6 [==============================] - 0s 2ms/step - loss: 1.1678 - lr: 0.0010\n",
            "Epoch 35/200\n",
            "6/6 [==============================] - 0s 3ms/step - loss: 1.1636 - lr: 0.0010\n",
            "Epoch 36/200\n",
            "6/6 [==============================] - 0s 2ms/step - loss: 1.0444 - lr: 0.0010\n",
            "Epoch 37/200\n",
            "6/6 [==============================] - 0s 2ms/step - loss: 1.1110 - lr: 0.0010\n",
            "Epoch 38/200\n",
            "6/6 [==============================] - 0s 2ms/step - loss: 0.9755 - lr: 0.0010\n",
            "Epoch 39/200\n",
            "6/6 [==============================] - 0s 2ms/step - loss: 0.9837 - lr: 0.0010\n",
            "Epoch 40/200\n",
            "6/6 [==============================] - 0s 2ms/step - loss: 0.8893 - lr: 0.0010\n",
            "Epoch 41/200\n",
            "6/6 [==============================] - 0s 2ms/step - loss: 0.9014 - lr: 0.0010\n",
            "Epoch 42/200\n",
            "6/6 [==============================] - 0s 2ms/step - loss: 1.2993 - lr: 0.0010\n",
            "Epoch 43/200\n",
            "6/6 [==============================] - 0s 2ms/step - loss: 1.1630 - lr: 0.0010\n",
            "Epoch 44/200\n",
            "6/6 [==============================] - 0s 2ms/step - loss: 1.2466 - lr: 0.0010\n",
            "Epoch 45/200\n",
            "6/6 [==============================] - 0s 3ms/step - loss: 1.1516 - lr: 0.0010\n",
            "Epoch 46/200\n",
            "6/6 [==============================] - 0s 2ms/step - loss: 0.8755 - lr: 0.0010\n",
            "Epoch 47/200\n",
            "6/6 [==============================] - 0s 2ms/step - loss: 0.9419 - lr: 0.0010\n",
            "Epoch 48/200\n",
            "6/6 [==============================] - 0s 2ms/step - loss: 1.0042 - lr: 0.0010\n",
            "Epoch 49/200\n",
            "6/6 [==============================] - 0s 2ms/step - loss: 1.0476 - lr: 0.0010\n",
            "Epoch 50/200\n",
            "6/6 [==============================] - 0s 2ms/step - loss: 1.3673 - lr: 0.0010\n",
            "Epoch 51/200\n",
            "6/6 [==============================] - 0s 2ms/step - loss: 0.9235 - lr: 1.0000e-04\n",
            "Epoch 52/200\n",
            "6/6 [==============================] - 0s 2ms/step - loss: 1.2101 - lr: 1.0000e-04\n",
            "Epoch 53/200\n",
            "6/6 [==============================] - 0s 2ms/step - loss: 1.1111 - lr: 1.0000e-04\n",
            "Epoch 54/200\n",
            "6/6 [==============================] - 0s 2ms/step - loss: 0.8746 - lr: 1.0000e-04\n",
            "Epoch 55/200\n",
            "6/6 [==============================] - 0s 4ms/step - loss: 0.9549 - lr: 1.0000e-04\n",
            "Epoch 56/200\n",
            "6/6 [==============================] - 0s 2ms/step - loss: 0.9255 - lr: 1.0000e-04\n",
            "Epoch 57/200\n",
            "6/6 [==============================] - 0s 3ms/step - loss: 0.8769 - lr: 1.0000e-04\n",
            "Epoch 58/200\n",
            "6/6 [==============================] - 0s 2ms/step - loss: 0.8888 - lr: 1.0000e-04\n",
            "Epoch 59/200\n",
            "6/6 [==============================] - 0s 2ms/step - loss: 0.8746 - lr: 1.0000e-04\n",
            "Epoch 60/200\n",
            "6/6 [==============================] - 0s 3ms/step - loss: 0.8953 - lr: 1.0000e-04\n",
            "Epoch 61/200\n",
            "6/6 [==============================] - 0s 3ms/step - loss: 0.9220 - lr: 1.0000e-04\n",
            "Epoch 62/200\n",
            "6/6 [==============================] - 0s 3ms/step - loss: 0.8745 - lr: 1.0000e-04\n",
            "Epoch 63/200\n",
            "6/6 [==============================] - 0s 2ms/step - loss: 0.9056 - lr: 1.0000e-04\n",
            "Epoch 64/200\n",
            "6/6 [==============================] - 0s 2ms/step - loss: 0.9138 - lr: 1.0000e-04\n",
            "Epoch 65/200\n",
            "6/6 [==============================] - 0s 2ms/step - loss: 0.8770 - lr: 1.0000e-04\n",
            "Epoch 66/200\n",
            "6/6 [==============================] - 0s 3ms/step - loss: 0.9269 - lr: 1.0000e-04\n",
            "Epoch 67/200\n",
            "6/6 [==============================] - 0s 2ms/step - loss: 0.9073 - lr: 1.0000e-04\n",
            "Epoch 68/200\n",
            "6/6 [==============================] - 0s 2ms/step - loss: 0.8722 - lr: 1.0000e-04\n",
            "Epoch 69/200\n",
            "6/6 [==============================] - 0s 3ms/step - loss: 0.8845 - lr: 1.0000e-04\n",
            "Epoch 70/200\n",
            "6/6 [==============================] - 0s 2ms/step - loss: 0.8716 - lr: 1.0000e-04\n",
            "Epoch 71/200\n",
            "6/6 [==============================] - 0s 2ms/step - loss: 0.9093 - lr: 1.0000e-04\n",
            "Epoch 72/200\n",
            "6/6 [==============================] - 0s 2ms/step - loss: 0.9424 - lr: 1.0000e-04\n",
            "Epoch 73/200\n",
            "6/6 [==============================] - 0s 2ms/step - loss: 0.8852 - lr: 1.0000e-04\n",
            "Epoch 74/200\n",
            "6/6 [==============================] - 0s 2ms/step - loss: 0.8719 - lr: 1.0000e-04\n",
            "Epoch 75/200\n",
            "6/6 [==============================] - 0s 2ms/step - loss: 0.8732 - lr: 1.0000e-04\n",
            "Epoch 76/200\n",
            "6/6 [==============================] - 0s 2ms/step - loss: 0.8725 - lr: 1.0000e-04\n",
            "Epoch 77/200\n",
            "6/6 [==============================] - 0s 3ms/step - loss: 0.8714 - lr: 1.0000e-04\n",
            "Epoch 78/200\n",
            "6/6 [==============================] - 0s 2ms/step - loss: 0.8735 - lr: 1.0000e-04\n",
            "Epoch 79/200\n",
            "6/6 [==============================] - 0s 2ms/step - loss: 0.8732 - lr: 1.0000e-04\n",
            "Epoch 80/200\n",
            "6/6 [==============================] - 0s 2ms/step - loss: 0.8704 - lr: 1.0000e-04\n",
            "Epoch 81/200\n",
            "6/6 [==============================] - 0s 3ms/step - loss: 0.8725 - lr: 1.0000e-04\n",
            "Epoch 82/200\n",
            "6/6 [==============================] - 0s 2ms/step - loss: 0.9093 - lr: 1.0000e-04\n",
            "Epoch 83/200\n",
            "6/6 [==============================] - 0s 2ms/step - loss: 0.9018 - lr: 1.0000e-04\n",
            "Epoch 84/200\n",
            "6/6 [==============================] - 0s 2ms/step - loss: 0.8852 - lr: 1.0000e-04\n",
            "Epoch 85/200\n",
            "6/6 [==============================] - 0s 4ms/step - loss: 0.8796 - lr: 1.0000e-04\n",
            "Epoch 86/200\n",
            "6/6 [==============================] - 0s 3ms/step - loss: 0.8795 - lr: 1.0000e-04\n",
            "Epoch 87/200\n",
            "6/6 [==============================] - 0s 2ms/step - loss: 0.9080 - lr: 1.0000e-04\n",
            "Epoch 88/200\n",
            "6/6 [==============================] - 0s 2ms/step - loss: 0.8800 - lr: 1.0000e-04\n",
            "Epoch 89/200\n",
            "6/6 [==============================] - 0s 2ms/step - loss: 0.8804 - lr: 1.0000e-04\n",
            "Epoch 90/200\n",
            "6/6 [==============================] - 0s 2ms/step - loss: 0.9310 - lr: 1.0000e-04\n",
            "Epoch 91/200\n",
            "6/6 [==============================] - 0s 2ms/step - loss: 0.8693 - lr: 1.0000e-04\n",
            "Epoch 92/200\n",
            "6/6 [==============================] - 0s 3ms/step - loss: 0.9411 - lr: 1.0000e-04\n",
            "Epoch 93/200\n",
            "6/6 [==============================] - 0s 2ms/step - loss: 0.9449 - lr: 1.0000e-04\n",
            "Epoch 94/200\n",
            "6/6 [==============================] - 0s 2ms/step - loss: 0.8763 - lr: 1.0000e-04\n",
            "Epoch 95/200\n",
            "6/6 [==============================] - 0s 2ms/step - loss: 0.8721 - lr: 1.0000e-04\n",
            "Epoch 96/200\n",
            "6/6 [==============================] - 0s 2ms/step - loss: 0.8792 - lr: 1.0000e-04\n",
            "Epoch 97/200\n",
            "6/6 [==============================] - 0s 3ms/step - loss: 0.9197 - lr: 1.0000e-04\n",
            "Epoch 98/200\n",
            "6/6 [==============================] - 0s 2ms/step - loss: 0.8824 - lr: 1.0000e-04\n",
            "Epoch 99/200\n",
            "6/6 [==============================] - 0s 2ms/step - loss: 0.8821 - lr: 1.0000e-04\n",
            "Epoch 100/200\n",
            "6/6 [==============================] - 0s 4ms/step - loss: 0.8919 - lr: 1.0000e-04\n",
            "Epoch 101/200\n",
            "6/6 [==============================] - 0s 2ms/step - loss: 0.8770 - lr: 1.0000e-04\n",
            "Epoch 102/200\n",
            "6/6 [==============================] - 0s 3ms/step - loss: 0.8820 - lr: 1.0000e-04\n",
            "Epoch 103/200\n",
            "6/6 [==============================] - 0s 2ms/step - loss: 0.8811 - lr: 1.0000e-04\n",
            "Epoch 104/200\n",
            "6/6 [==============================] - 0s 2ms/step - loss: 0.8728 - lr: 1.0000e-04\n",
            "Epoch 105/200\n",
            "6/6 [==============================] - 0s 2ms/step - loss: 0.8735 - lr: 1.0000e-04\n",
            "Epoch 106/200\n",
            "6/6 [==============================] - 0s 2ms/step - loss: 0.8779 - lr: 1.0000e-04\n",
            "Epoch 107/200\n",
            "6/6 [==============================] - 0s 4ms/step - loss: 0.8720 - lr: 1.0000e-04\n",
            "Epoch 108/200\n",
            "6/6 [==============================] - 0s 2ms/step - loss: 0.8730 - lr: 1.0000e-04\n",
            "Epoch 109/200\n",
            "6/6 [==============================] - 0s 2ms/step - loss: 0.8724 - lr: 1.0000e-04\n",
            "Epoch 110/200\n",
            "6/6 [==============================] - 0s 2ms/step - loss: 0.8751 - lr: 1.0000e-04\n",
            "Epoch 111/200\n",
            "6/6 [==============================] - 0s 3ms/step - loss: 0.8747 - lr: 1.0000e-04\n",
            "Epoch 112/200\n",
            "6/6 [==============================] - 0s 3ms/step - loss: 0.8743 - lr: 1.0000e-04\n",
            "Epoch 113/200\n",
            "6/6 [==============================] - 0s 3ms/step - loss: 0.8745 - lr: 1.0000e-04\n",
            "Epoch 114/200\n",
            "6/6 [==============================] - 0s 3ms/step - loss: 0.8713 - lr: 1.0000e-04\n",
            "Epoch 115/200\n",
            "6/6 [==============================] - 0s 3ms/step - loss: 0.8761 - lr: 1.0000e-04\n",
            "Epoch 116/200\n",
            "6/6 [==============================] - 0s 2ms/step - loss: 0.8746 - lr: 1.0000e-04\n",
            "Epoch 117/200\n",
            "6/6 [==============================] - 0s 2ms/step - loss: 0.8807 - lr: 1.0000e-04\n",
            "Epoch 118/200\n",
            "6/6 [==============================] - 0s 2ms/step - loss: 0.8769 - lr: 1.0000e-04\n",
            "Epoch 119/200\n",
            "6/6 [==============================] - 0s 2ms/step - loss: 0.8710 - lr: 1.0000e-04\n",
            "Epoch 120/200\n",
            "6/6 [==============================] - 0s 2ms/step - loss: 0.8813 - lr: 1.0000e-04\n",
            "Epoch 121/200\n",
            "6/6 [==============================] - 0s 2ms/step - loss: 0.8781 - lr: 1.0000e-04\n",
            "Epoch 122/200\n",
            "6/6 [==============================] - 0s 2ms/step - loss: 0.8728 - lr: 1.0000e-04\n",
            "Epoch 123/200\n",
            "6/6 [==============================] - 0s 2ms/step - loss: 0.8820 - lr: 1.0000e-04\n",
            "Epoch 124/200\n",
            "6/6 [==============================] - 0s 3ms/step - loss: 0.8752 - lr: 1.0000e-04\n",
            "Epoch 125/200\n",
            "6/6 [==============================] - 0s 3ms/step - loss: 0.8757 - lr: 1.0000e-04\n",
            "Epoch 126/200\n",
            "6/6 [==============================] - 0s 3ms/step - loss: 0.8720 - lr: 1.0000e-04\n",
            "Epoch 127/200\n",
            "6/6 [==============================] - 0s 3ms/step - loss: 0.8732 - lr: 1.0000e-04\n",
            "Epoch 128/200\n",
            "6/6 [==============================] - 0s 3ms/step - loss: 0.8740 - lr: 1.0000e-04\n",
            "Epoch 129/200\n",
            "6/6 [==============================] - 0s 2ms/step - loss: 0.8724 - lr: 1.0000e-04\n",
            "Epoch 130/200\n",
            "6/6 [==============================] - 0s 2ms/step - loss: 0.8699 - lr: 1.0000e-04\n",
            "Epoch 131/200\n",
            "6/6 [==============================] - 0s 3ms/step - loss: 0.8713 - lr: 1.0000e-04\n",
            "Epoch 132/200\n",
            "6/6 [==============================] - 0s 2ms/step - loss: 0.8888 - lr: 1.0000e-04\n",
            "Epoch 133/200\n",
            "6/6 [==============================] - 0s 2ms/step - loss: 0.9178 - lr: 1.0000e-04\n",
            "Epoch 134/200\n",
            "6/6 [==============================] - 0s 3ms/step - loss: 0.8782 - lr: 1.0000e-04\n",
            "Epoch 135/200\n",
            "6/6 [==============================] - 0s 2ms/step - loss: 0.8898 - lr: 1.0000e-04\n",
            "Epoch 136/200\n",
            "6/6 [==============================] - 0s 2ms/step - loss: 0.8974 - lr: 1.0000e-04\n",
            "Epoch 137/200\n",
            "6/6 [==============================] - 0s 2ms/step - loss: 0.8776 - lr: 1.0000e-04\n",
            "Epoch 138/200\n",
            "6/6 [==============================] - 0s 2ms/step - loss: 0.8973 - lr: 1.0000e-04\n",
            "Epoch 139/200\n",
            "6/6 [==============================] - 0s 2ms/step - loss: 0.8822 - lr: 1.0000e-04\n",
            "Epoch 140/200\n",
            "6/6 [==============================] - 0s 3ms/step - loss: 0.8761 - lr: 1.0000e-04\n",
            "Epoch 141/200\n",
            "6/6 [==============================] - 0s 3ms/step - loss: 0.8784 - lr: 1.0000e-04\n",
            "Epoch 142/200\n",
            "6/6 [==============================] - 0s 3ms/step - loss: 0.8785 - lr: 1.0000e-04\n",
            "Epoch 143/200\n",
            "6/6 [==============================] - 0s 3ms/step - loss: 0.8750 - lr: 1.0000e-04\n",
            "Epoch 144/200\n",
            "6/6 [==============================] - 0s 3ms/step - loss: 0.8732 - lr: 1.0000e-04\n",
            "Epoch 145/200\n",
            "6/6 [==============================] - 0s 3ms/step - loss: 0.8689 - lr: 1.0000e-04\n",
            "Epoch 146/200\n",
            "6/6 [==============================] - 0s 3ms/step - loss: 0.8730 - lr: 1.0000e-04\n",
            "Epoch 147/200\n",
            "6/6 [==============================] - 0s 2ms/step - loss: 0.8774 - lr: 1.0000e-04\n",
            "Epoch 148/200\n",
            "6/6 [==============================] - 0s 3ms/step - loss: 0.8768 - lr: 1.0000e-04\n",
            "Epoch 149/200\n",
            "6/6 [==============================] - 0s 3ms/step - loss: 0.8790 - lr: 1.0000e-04\n",
            "Epoch 150/200\n",
            "6/6 [==============================] - 0s 2ms/step - loss: 0.8670 - lr: 1.0000e-04\n",
            "Epoch 151/200\n",
            "6/6 [==============================] - 0s 2ms/step - loss: 0.8766 - lr: 1.0000e-04\n",
            "Epoch 152/200\n",
            "6/6 [==============================] - 0s 2ms/step - loss: 0.8748 - lr: 1.0000e-04\n",
            "Epoch 153/200\n",
            "6/6 [==============================] - 0s 2ms/step - loss: 0.8752 - lr: 1.0000e-04\n",
            "Epoch 154/200\n",
            "6/6 [==============================] - 0s 2ms/step - loss: 0.8724 - lr: 1.0000e-04\n",
            "Epoch 155/200\n",
            "6/6 [==============================] - 0s 2ms/step - loss: 0.8712 - lr: 1.0000e-04\n",
            "Epoch 156/200\n",
            "6/6 [==============================] - 0s 3ms/step - loss: 0.8725 - lr: 1.0000e-04\n",
            "Epoch 157/200\n",
            "6/6 [==============================] - 0s 3ms/step - loss: 0.8716 - lr: 1.0000e-04\n",
            "Epoch 158/200\n",
            "6/6 [==============================] - 0s 2ms/step - loss: 0.8745 - lr: 1.0000e-04\n",
            "Epoch 159/200\n",
            "6/6 [==============================] - 0s 3ms/step - loss: 0.8841 - lr: 1.0000e-04\n",
            "Epoch 160/200\n",
            "6/6 [==============================] - 0s 2ms/step - loss: 0.8814 - lr: 1.0000e-04\n",
            "Epoch 161/200\n",
            "6/6 [==============================] - 0s 3ms/step - loss: 0.8779 - lr: 1.0000e-04\n",
            "Epoch 162/200\n",
            "6/6 [==============================] - 0s 2ms/step - loss: 0.8912 - lr: 1.0000e-04\n",
            "Epoch 163/200\n",
            "6/6 [==============================] - 0s 2ms/step - loss: 0.9270 - lr: 1.0000e-04\n",
            "Epoch 164/200\n",
            "6/6 [==============================] - 0s 3ms/step - loss: 0.8945 - lr: 1.0000e-04\n",
            "Epoch 165/200\n",
            "6/6 [==============================] - 0s 3ms/step - loss: 0.9216 - lr: 1.0000e-04\n",
            "Epoch 166/200\n",
            "6/6 [==============================] - 0s 3ms/step - loss: 0.9234 - lr: 1.0000e-04\n",
            "Epoch 167/200\n",
            "6/6 [==============================] - 0s 2ms/step - loss: 0.8734 - lr: 1.0000e-04\n",
            "Epoch 168/200\n",
            "6/6 [==============================] - 0s 2ms/step - loss: 0.8851 - lr: 1.0000e-04\n",
            "Epoch 169/200\n",
            "6/6 [==============================] - 0s 2ms/step - loss: 0.8830 - lr: 1.0000e-04\n",
            "Epoch 170/200\n",
            "6/6 [==============================] - 0s 3ms/step - loss: 0.8740 - lr: 1.0000e-04\n",
            "Epoch 171/200\n",
            "6/6 [==============================] - 0s 3ms/step - loss: 0.8724 - lr: 1.0000e-04\n",
            "Epoch 172/200\n",
            "6/6 [==============================] - 0s 2ms/step - loss: 0.8739 - lr: 1.0000e-04\n",
            "Epoch 173/200\n",
            "6/6 [==============================] - 0s 2ms/step - loss: 0.8733 - lr: 1.0000e-04\n",
            "Epoch 174/200\n",
            "6/6 [==============================] - 0s 2ms/step - loss: 0.8746 - lr: 1.0000e-04\n",
            "Epoch 175/200\n",
            "6/6 [==============================] - 0s 2ms/step - loss: 0.8732 - lr: 1.0000e-04\n",
            "Epoch 176/200\n",
            "6/6 [==============================] - 0s 2ms/step - loss: 0.8736 - lr: 1.0000e-04\n",
            "Epoch 177/200\n",
            "6/6 [==============================] - 0s 2ms/step - loss: 0.8717 - lr: 1.0000e-04\n",
            "Epoch 178/200\n",
            "6/6 [==============================] - 0s 3ms/step - loss: 0.8710 - lr: 1.0000e-04\n",
            "Epoch 179/200\n",
            "6/6 [==============================] - 0s 2ms/step - loss: 0.8729 - lr: 1.0000e-04\n",
            "Epoch 180/200\n",
            "6/6 [==============================] - 0s 2ms/step - loss: 0.8723 - lr: 1.0000e-04\n",
            "Epoch 181/200\n",
            "6/6 [==============================] - 0s 2ms/step - loss: 0.8715 - lr: 1.0000e-04\n",
            "Epoch 182/200\n",
            "6/6 [==============================] - 0s 3ms/step - loss: 0.8706 - lr: 1.0000e-04\n",
            "Epoch 183/200\n",
            "6/6 [==============================] - 0s 2ms/step - loss: 0.8714 - lr: 1.0000e-04\n",
            "Epoch 184/200\n",
            "6/6 [==============================] - 0s 3ms/step - loss: 0.8750 - lr: 1.0000e-04\n",
            "Epoch 185/200\n",
            "6/6 [==============================] - 0s 2ms/step - loss: 0.8748 - lr: 1.0000e-04\n",
            "Epoch 186/200\n",
            "6/6 [==============================] - 0s 2ms/step - loss: 0.8771 - lr: 1.0000e-04\n",
            "Epoch 187/200\n",
            "6/6 [==============================] - 0s 2ms/step - loss: 0.8826 - lr: 1.0000e-04\n",
            "Epoch 188/200\n",
            "6/6 [==============================] - 0s 2ms/step - loss: 0.8861 - lr: 1.0000e-04\n",
            "Epoch 189/200\n",
            "6/6 [==============================] - 0s 2ms/step - loss: 0.8716 - lr: 1.0000e-04\n",
            "Epoch 190/200\n",
            "6/6 [==============================] - 0s 3ms/step - loss: 0.8752 - lr: 1.0000e-04\n",
            "Epoch 191/200\n",
            "6/6 [==============================] - 0s 3ms/step - loss: 0.8773 - lr: 1.0000e-04\n",
            "Epoch 192/200\n",
            "6/6 [==============================] - 0s 3ms/step - loss: 0.8739 - lr: 1.0000e-04\n",
            "Epoch 193/200\n",
            "6/6 [==============================] - 0s 2ms/step - loss: 0.8750 - lr: 1.0000e-04\n",
            "Epoch 194/200\n",
            "6/6 [==============================] - 0s 2ms/step - loss: 0.8729 - lr: 1.0000e-04\n",
            "Epoch 195/200\n",
            "6/6 [==============================] - 0s 3ms/step - loss: 0.8862 - lr: 1.0000e-04\n",
            "Epoch 196/200\n",
            "6/6 [==============================] - 0s 4ms/step - loss: 0.8755 - lr: 1.0000e-04\n",
            "Epoch 197/200\n",
            "6/6 [==============================] - 0s 3ms/step - loss: 0.8758 - lr: 1.0000e-04\n",
            "Epoch 198/200\n",
            "6/6 [==============================] - 0s 2ms/step - loss: 0.8714 - lr: 1.0000e-04\n",
            "Epoch 199/200\n",
            "6/6 [==============================] - 0s 3ms/step - loss: 0.8796 - lr: 1.0000e-04\n",
            "Epoch 200/200\n",
            "6/6 [==============================] - 0s 3ms/step - loss: 0.8741 - lr: 1.0000e-04\n"
          ]
        }
      ]
    },
    {
      "cell_type": "code",
      "source": [
        "plt.figure(figsize=(10, 7))\n",
        "plt.plot(r.history[\"loss\"], label=\"loss\")\n",
        "plt.legend();"
      ],
      "metadata": {
        "colab": {
          "base_uri": "https://localhost:8080/",
          "height": 428
        },
        "id": "K7k5C2TtqdGo",
        "outputId": "89182c63-ed15-46e5-a98c-759c6408364c"
      },
      "execution_count": null,
      "outputs": [
        {
          "output_type": "display_data",
          "data": {
            "text/plain": [
              "<Figure size 720x504 with 1 Axes>"
            ],
            "image/png": "[encoded data removed]"
          },
          "metadata": {
            "needs_background": "light"
          }
        }
      ]
    },
    {
      "cell_type": "code",
      "source": [
        "print(model.layers) # Note: there is only 1 layer, the \"Input\" layer doesn't count\n",
        "print(model.layers[0].get_weights())"
      ],
      "metadata": {
        "colab": {
          "base_uri": "https://localhost:8080/"
        },
        "id": "NPIo7GwVrB9k",
        "outputId": "a65f30f0-3e6c-449f-8b8c-62b43396b7bc"
      },
      "execution_count": null,
      "outputs": [
        {
          "output_type": "stream",
          "name": "stdout",
          "text": [
            "[<keras.layers.core.dense.Dense object at 0x7f1a9eb04a00>]\n",
            "[array([[0.34244725]], dtype=float32), array([17.75304], dtype=float32)]\n"
          ]
        }
      ]
    },
    {
      "cell_type": "code",
      "source": [
        "a = model.layers[0].get_weights()[0][0][0]\n",
        "a"
      ],
      "metadata": {
        "colab": {
          "base_uri": "https://localhost:8080/"
        },
        "id": "c7rcBKcbrNqP",
        "outputId": "0bea582c-0d60-4040-aad2-b5da2b16b024"
      },
      "execution_count": null,
      "outputs": [
        {
          "output_type": "execute_result",
          "data": {
            "text/plain": [
              "0.34244725"
            ]
          },
          "metadata": {},
          "execution_count": 275
        }
      ]
    },
    {
      "cell_type": "code",
      "source": [
        "b = model.layers[0].get_weights()[1][0]\n",
        "b"
      ],
      "metadata": {
        "colab": {
          "base_uri": "https://localhost:8080/"
        },
        "id": "wY2crerZrSIQ",
        "outputId": "7aa7fb48-d0c4-4773-e4d0-559b8b50abed"
      },
      "execution_count": null,
      "outputs": [
        {
          "output_type": "execute_result",
          "data": {
            "text/plain": [
              "17.75304"
            ]
          },
          "metadata": {},
          "execution_count": 276
        }
      ]
    },
    {
      "cell_type": "code",
      "source": [
        "x[10], y[10]"
      ],
      "metadata": {
        "colab": {
          "base_uri": "https://localhost:8080/"
        },
        "id": "raZzeYRWraR8",
        "outputId": "dc2d60f9-d54d-4d43-dbca-1dec4e4c6b6b"
      },
      "execution_count": null,
      "outputs": [
        {
          "output_type": "execute_result",
          "data": {
            "text/plain": [
              "(array([-26.19753086]), 8.779557455883728)"
            ]
          },
          "metadata": {},
          "execution_count": 277
        }
      ]
    },
    {
      "cell_type": "code",
      "source": [
        "a * x[10] + b"
      ],
      "metadata": {
        "colab": {
          "base_uri": "https://localhost:8080/"
        },
        "id": "6Ke-v0yJrkTP",
        "outputId": "25b0f016-35e4-43b0-b017-1980ca14aa05"
      },
      "execution_count": null,
      "outputs": [
        {
          "output_type": "execute_result",
          "data": {
            "text/plain": [
              "array([8.78176788])"
            ]
          },
          "metadata": {},
          "execution_count": 278
        }
      ]
    },
    {
      "cell_type": "code",
      "source": [
        "yhat = model.predict(x).flatten()"
      ],
      "metadata": {
        "colab": {
          "base_uri": "https://localhost:8080/"
        },
        "id": "xoRirgTa5xia",
        "outputId": "17a329e5-014e-4996-f98f-4b7a7457a2bf"
      },
      "execution_count": null,
      "outputs": [
        {
          "output_type": "stream",
          "name": "stdout",
          "text": [
            "6/6 [==============================] - 0s 2ms/step\n"
          ]
        }
      ]
    },
    {
      "cell_type": "code",
      "source": [
        "plt.figure(figsize=(10,7))\n",
        "plt.scatter(x, y)\n",
        "plt.plot(x, yhat);"
      ],
      "metadata": {
        "colab": {
          "base_uri": "https://localhost:8080/",
          "height": 428
        },
        "id": "z6etj05p5xfc",
        "outputId": "fe82ab0a-4a6c-4f4a-e4f2-3edffd937b39"
      },
      "execution_count": null,
      "outputs": [
        {
          "output_type": "display_data",
          "data": {
            "text/plain": [
              "<Figure size 720x504 with 1 Axes>"
            ],
            "image/png": "[encoded data removed]"
          },
          "metadata": {
            "needs_background": "light"
          }
        }
      ]
    },
    {
      "cell_type": "markdown",
      "source": [
        "## Regression exercice"
      ],
      "metadata": {
        "id": "Xi9jmqEHrovH"
      }
    },
    {
      "cell_type": "code",
      "source": [
        "from sklearn.datasets import load_boston\n",
        "data = load_boston()"
      ],
      "metadata": {
        "colab": {
          "base_uri": "https://localhost:8080/"
        },
        "id": "c3irPZVxwtir",
        "outputId": "c0072a2f-1f52-4ebe-96d6-027c88beb865"
      },
      "execution_count": null,
      "outputs": [
        {
          "output_type": "stream",
          "name": "stderr",
          "text": [
            "/usr/local/lib/python3.8/dist-packages/sklearn/utils/deprecation.py:87: FutureWarning: Function load_boston is deprecated; `load_boston` is deprecated in 1.0 and will be removed in 1.2.\n",
            "\n",
            "    The Boston housing prices dataset has an ethical problem. You can refer to\n",
            "    the documentation of this function for further details.\n",
            "\n",
            "    The scikit-learn maintainers therefore strongly discourage the use of this\n",
            "    dataset unless the purpose of the code is to study and educate about\n",
            "    ethical issues in data science and machine learning.\n",
            "\n",
            "    In this special case, you can fetch the dataset from the original\n",
            "    source::\n",
            "\n",
            "        import pandas as pd\n",
            "        import numpy as np\n",
            "\n",
            "\n",
            "        data_url = \"http://lib.stat.cmu.edu/datasets/boston\"\n",
            "        raw_df = pd.read_csv(data_url, sep=\"\\s+\", skiprows=22, header=None)\n",
            "        data = np.hstack([raw_df.values[::2, :], raw_df.values[1::2, :2]])\n",
            "        target = raw_df.values[1::2, 2]\n",
            "\n",
            "    Alternative datasets include the California housing dataset (i.e.\n",
            "    :func:`~sklearn.datasets.fetch_california_housing`) and the Ames housing\n",
            "    dataset. You can load the datasets as follows::\n",
            "\n",
            "        from sklearn.datasets import fetch_california_housing\n",
            "        housing = fetch_california_housing()\n",
            "\n",
            "    for the California housing dataset and::\n",
            "\n",
            "        from sklearn.datasets import fetch_openml\n",
            "        housing = fetch_openml(name=\"house_prices\", as_frame=True)\n",
            "\n",
            "    for the Ames housing dataset.\n",
            "    \n",
            "  warnings.warn(msg, category=FutureWarning)\n"
          ]
        }
      ]
    },
    {
      "cell_type": "code",
      "source": [
        "data_url = \"http://lib.stat.cmu.edu/datasets/boston\"\n",
        "raw_df = pd.read_csv(data_url, sep=\"\\s+\", skiprows=22, header=None)"
      ],
      "metadata": {
        "id": "6N1JxK19serk"
      },
      "execution_count": null,
      "outputs": []
    },
    {
      "cell_type": "code",
      "source": [
        "data = np.hstack([raw_df.values[::2, :], raw_df.values[1::2, :2]])\n",
        "target = raw_df.values[1::2, 2]"
      ],
      "metadata": {
        "id": "BPGdFAH6uCpa"
      },
      "execution_count": null,
      "outputs": []
    },
    {
      "cell_type": "code",
      "source": [
        "data[0]"
      ],
      "metadata": {
        "colab": {
          "base_uri": "https://localhost:8080/"
        },
        "id": "lCm4nQQcxu_0",
        "outputId": "7a5958c1-5d94-4741-dc85-3937e6b51c1a"
      },
      "execution_count": null,
      "outputs": [
        {
          "output_type": "execute_result",
          "data": {
            "text/plain": [
              "array([6.320e-03, 1.800e+01, 2.310e+00, 0.000e+00, 5.380e-01, 6.575e+00,\n",
              "       6.520e+01, 4.090e+00, 1.000e+00, 2.960e+02, 1.530e+01, 3.969e+02,\n",
              "       4.980e+00])"
            ]
          },
          "metadata": {},
          "execution_count": 240
        }
      ]
    },
    {
      "cell_type": "code",
      "source": [
        "target[0]"
      ],
      "metadata": {
        "colab": {
          "base_uri": "https://localhost:8080/"
        },
        "id": "fF-JfpN9x1_Q",
        "outputId": "26011740-3e5e-438d-deca-a3613e50112b"
      },
      "execution_count": null,
      "outputs": [
        {
          "output_type": "execute_result",
          "data": {
            "text/plain": [
              "24.0"
            ]
          },
          "metadata": {},
          "execution_count": 241
        }
      ]
    },
    {
      "cell_type": "code",
      "source": [
        "x_train, x_test, y_train, y_test = train_test_split(data, target, test_size=0.2)"
      ],
      "metadata": {
        "id": "DlqRxLrnyaz9"
      },
      "execution_count": null,
      "outputs": []
    },
    {
      "cell_type": "code",
      "source": [
        "x_train.shape, x_test.shape"
      ],
      "metadata": {
        "colab": {
          "base_uri": "https://localhost:8080/"
        },
        "id": "doMwDuq8yiA2",
        "outputId": "493642dd-75d3-49be-b9ea-900b15415331"
      },
      "execution_count": null,
      "outputs": [
        {
          "output_type": "execute_result",
          "data": {
            "text/plain": [
              "((404, 13), (102, 13))"
            ]
          },
          "metadata": {},
          "execution_count": 243
        }
      ]
    },
    {
      "cell_type": "code",
      "source": [
        "scaler = StandardScaler()\n",
        "x_train = scaler.fit_transform(x_train)\n",
        "x_test = scaler.transform(x_test)"
      ],
      "metadata": {
        "id": "uGrjuejtx6n6"
      },
      "execution_count": null,
      "outputs": []
    },
    {
      "cell_type": "code",
      "source": [
        "target.min(), target.max()"
      ],
      "metadata": {
        "colab": {
          "base_uri": "https://localhost:8080/"
        },
        "id": "-EEV2Z0kyMlL",
        "outputId": "079de0e9-dbc3-4e96-f4ec-456d79dcf45a"
      },
      "execution_count": null,
      "outputs": [
        {
          "output_type": "execute_result",
          "data": {
            "text/plain": [
              "(5.0, 50.0)"
            ]
          },
          "metadata": {},
          "execution_count": 245
        }
      ]
    },
    {
      "cell_type": "code",
      "source": [
        "model = tf.keras.Sequential([\n",
        "    tf.keras.layers.Input(shape=(13, )),\n",
        "    tf.keras.layers.Dense(1)\n",
        "])"
      ],
      "metadata": {
        "id": "PT7jUqv_yPII"
      },
      "execution_count": null,
      "outputs": []
    },
    {
      "cell_type": "code",
      "source": [
        "model.compile(loss=\"mse\",\n",
        "              optimizer=tf.keras.optimizers.SGD(learning_rate=0.001, momentum=0.9),\n",
        "              metrics=[\"mse\"])"
      ],
      "metadata": {
        "id": "Syh5KP7Ay1-7"
      },
      "execution_count": null,
      "outputs": []
    },
    {
      "cell_type": "code",
      "source": [
        "def schedule(epoch, lr):\n",
        "  if epoch >= 50:\n",
        "    return 0.0001\n",
        "  return 0.001"
      ],
      "metadata": {
        "id": "Xj2CfOW1zArO"
      },
      "execution_count": null,
      "outputs": []
    },
    {
      "cell_type": "code",
      "source": [
        "scheduler = tf.keras.callbacks.LearningRateScheduler(schedule)"
      ],
      "metadata": {
        "id": "bFUIwPNnzMl3"
      },
      "execution_count": null,
      "outputs": []
    },
    {
      "cell_type": "code",
      "source": [
        "r = model.fit(x_train, y_train,\n",
        "              validation_data=(x_test, y_test),\n",
        "              epochs=100,\n",
        "              callbacks=[scheduler])"
      ],
      "metadata": {
        "colab": {
          "base_uri": "https://localhost:8080/"
        },
        "id": "WUOV2UB9zSsE",
        "outputId": "5315c250-27c0-40b3-b10f-4e0ba3ad7ea1"
      },
      "execution_count": null,
      "outputs": [
        {
          "output_type": "stream",
          "name": "stdout",
          "text": [
            "Epoch 1/100\n",
            "13/13 [==============================] - 0s 11ms/step - loss: 534.3755 - mse: 534.3755 - val_loss: 461.3400 - val_mse: 461.3400 - lr: 0.0010\n",
            "Epoch 2/100\n",
            "13/13 [==============================] - 0s 3ms/step - loss: 362.1523 - mse: 362.1523 - val_loss: 290.2513 - val_mse: 290.2513 - lr: 0.0010\n",
            "Epoch 3/100\n",
            "13/13 [==============================] - 0s 3ms/step - loss: 216.7956 - mse: 216.7956 - val_loss: 173.5933 - val_mse: 173.5933 - lr: 0.0010\n",
            "Epoch 4/100\n",
            "13/13 [==============================] - 0s 5ms/step - loss: 124.7062 - mse: 124.7062 - val_loss: 105.3085 - val_mse: 105.3085 - lr: 0.0010\n",
            "Epoch 5/100\n",
            "13/13 [==============================] - 0s 5ms/step - loss: 75.6960 - mse: 75.6960 - val_loss: 68.3403 - val_mse: 68.3403 - lr: 0.0010\n",
            "Epoch 6/100\n",
            "13/13 [==============================] - 0s 5ms/step - loss: 49.2247 - mse: 49.2247 - val_loss: 50.4836 - val_mse: 50.4836 - lr: 0.0010\n",
            "Epoch 7/100\n",
            "13/13 [==============================] - 0s 5ms/step - loss: 36.2665 - mse: 36.2665 - val_loss: 39.8807 - val_mse: 39.8807 - lr: 0.0010\n",
            "Epoch 8/100\n",
            "13/13 [==============================] - 0s 5ms/step - loss: 29.5188 - mse: 29.5188 - val_loss: 34.3612 - val_mse: 34.3612 - lr: 0.0010\n",
            "Epoch 9/100\n",
            "13/13 [==============================] - 0s 4ms/step - loss: 26.1068 - mse: 26.1068 - val_loss: 31.2293 - val_mse: 31.2293 - lr: 0.0010\n",
            "Epoch 10/100\n",
            "13/13 [==============================] - 0s 4ms/step - loss: 24.3960 - mse: 24.3960 - val_loss: 30.0909 - val_mse: 30.0909 - lr: 0.0010\n",
            "Epoch 11/100\n",
            "13/13 [==============================] - 0s 4ms/step - loss: 23.5105 - mse: 23.5105 - val_loss: 29.0643 - val_mse: 29.0643 - lr: 0.0010\n",
            "Epoch 12/100\n",
            "13/13 [==============================] - 0s 5ms/step - loss: 23.0152 - mse: 23.0152 - val_loss: 27.9846 - val_mse: 27.9846 - lr: 0.0010\n",
            "Epoch 13/100\n",
            "13/13 [==============================] - 0s 4ms/step - loss: 22.6862 - mse: 22.6862 - val_loss: 27.8255 - val_mse: 27.8255 - lr: 0.0010\n",
            "Epoch 14/100\n",
            "13/13 [==============================] - 0s 4ms/step - loss: 22.5562 - mse: 22.5562 - val_loss: 27.9331 - val_mse: 27.9331 - lr: 0.0010\n",
            "Epoch 15/100\n",
            "13/13 [==============================] - 0s 5ms/step - loss: 22.4183 - mse: 22.4183 - val_loss: 27.1847 - val_mse: 27.1847 - lr: 0.0010\n",
            "Epoch 16/100\n",
            "13/13 [==============================] - 0s 4ms/step - loss: 22.3317 - mse: 22.3317 - val_loss: 27.0341 - val_mse: 27.0341 - lr: 0.0010\n",
            "Epoch 17/100\n",
            "13/13 [==============================] - 0s 4ms/step - loss: 22.2439 - mse: 22.2439 - val_loss: 27.4096 - val_mse: 27.4096 - lr: 0.0010\n",
            "Epoch 18/100\n",
            "13/13 [==============================] - 0s 5ms/step - loss: 22.1692 - mse: 22.1692 - val_loss: 26.6180 - val_mse: 26.6180 - lr: 0.0010\n",
            "Epoch 19/100\n",
            "13/13 [==============================] - 0s 4ms/step - loss: 22.1012 - mse: 22.1012 - val_loss: 26.8174 - val_mse: 26.8174 - lr: 0.0010\n",
            "Epoch 20/100\n",
            "13/13 [==============================] - 0s 4ms/step - loss: 22.0517 - mse: 22.0517 - val_loss: 26.9522 - val_mse: 26.9522 - lr: 0.0010\n",
            "Epoch 21/100\n",
            "13/13 [==============================] - 0s 7ms/step - loss: 21.9904 - mse: 21.9904 - val_loss: 26.5072 - val_mse: 26.5072 - lr: 0.0010\n",
            "Epoch 22/100\n",
            "13/13 [==============================] - 0s 5ms/step - loss: 21.9549 - mse: 21.9549 - val_loss: 26.2837 - val_mse: 26.2837 - lr: 0.0010\n",
            "Epoch 23/100\n",
            "13/13 [==============================] - 0s 4ms/step - loss: 21.8724 - mse: 21.8724 - val_loss: 26.5036 - val_mse: 26.5036 - lr: 0.0010\n",
            "Epoch 24/100\n",
            "13/13 [==============================] - 0s 4ms/step - loss: 21.8744 - mse: 21.8744 - val_loss: 26.5135 - val_mse: 26.5135 - lr: 0.0010\n",
            "Epoch 25/100\n",
            "13/13 [==============================] - 0s 4ms/step - loss: 21.8183 - mse: 21.8183 - val_loss: 26.4562 - val_mse: 26.4562 - lr: 0.0010\n",
            "Epoch 26/100\n",
            "13/13 [==============================] - 0s 5ms/step - loss: 21.8531 - mse: 21.8531 - val_loss: 26.7050 - val_mse: 26.7050 - lr: 0.0010\n",
            "Epoch 27/100\n",
            "13/13 [==============================] - 0s 5ms/step - loss: 21.7490 - mse: 21.7490 - val_loss: 26.1237 - val_mse: 26.1237 - lr: 0.0010\n",
            "Epoch 28/100\n",
            "13/13 [==============================] - 0s 3ms/step - loss: 21.7771 - mse: 21.7771 - val_loss: 25.8888 - val_mse: 25.8888 - lr: 0.0010\n",
            "Epoch 29/100\n",
            "13/13 [==============================] - 0s 4ms/step - loss: 21.7593 - mse: 21.7593 - val_loss: 26.0982 - val_mse: 26.0982 - lr: 0.0010\n",
            "Epoch 30/100\n",
            "13/13 [==============================] - 0s 4ms/step - loss: 21.7325 - mse: 21.7325 - val_loss: 26.2212 - val_mse: 26.2212 - lr: 0.0010\n",
            "Epoch 31/100\n",
            "13/13 [==============================] - 0s 4ms/step - loss: 21.6682 - mse: 21.6682 - val_loss: 26.0197 - val_mse: 26.0197 - lr: 0.0010\n",
            "Epoch 32/100\n",
            "13/13 [==============================] - 0s 4ms/step - loss: 21.7170 - mse: 21.7170 - val_loss: 26.0182 - val_mse: 26.0182 - lr: 0.0010\n",
            "Epoch 33/100\n",
            "13/13 [==============================] - 0s 4ms/step - loss: 21.6812 - mse: 21.6812 - val_loss: 25.8650 - val_mse: 25.8650 - lr: 0.0010\n",
            "Epoch 34/100\n",
            "13/13 [==============================] - 0s 6ms/step - loss: 21.6764 - mse: 21.6764 - val_loss: 26.0739 - val_mse: 26.0739 - lr: 0.0010\n",
            "Epoch 35/100\n",
            "13/13 [==============================] - 0s 4ms/step - loss: 21.6459 - mse: 21.6459 - val_loss: 25.7464 - val_mse: 25.7464 - lr: 0.0010\n",
            "Epoch 36/100\n",
            "13/13 [==============================] - 0s 4ms/step - loss: 21.5934 - mse: 21.5934 - val_loss: 25.8295 - val_mse: 25.8295 - lr: 0.0010\n",
            "Epoch 37/100\n",
            "13/13 [==============================] - 0s 4ms/step - loss: 21.5874 - mse: 21.5874 - val_loss: 25.9237 - val_mse: 25.9237 - lr: 0.0010\n",
            "Epoch 38/100\n",
            "13/13 [==============================] - 0s 6ms/step - loss: 21.5791 - mse: 21.5791 - val_loss: 25.8793 - val_mse: 25.8793 - lr: 0.0010\n",
            "Epoch 39/100\n",
            "13/13 [==============================] - 0s 5ms/step - loss: 21.5632 - mse: 21.5632 - val_loss: 25.8971 - val_mse: 25.8971 - lr: 0.0010\n",
            "Epoch 40/100\n",
            "13/13 [==============================] - 0s 4ms/step - loss: 21.5595 - mse: 21.5595 - val_loss: 25.9270 - val_mse: 25.9270 - lr: 0.0010\n",
            "Epoch 41/100\n",
            "13/13 [==============================] - 0s 5ms/step - loss: 21.5512 - mse: 21.5512 - val_loss: 25.7207 - val_mse: 25.7207 - lr: 0.0010\n",
            "Epoch 42/100\n",
            "13/13 [==============================] - 0s 3ms/step - loss: 21.5229 - mse: 21.5229 - val_loss: 25.8852 - val_mse: 25.8852 - lr: 0.0010\n",
            "Epoch 43/100\n",
            "13/13 [==============================] - 0s 3ms/step - loss: 21.5254 - mse: 21.5254 - val_loss: 25.8213 - val_mse: 25.8213 - lr: 0.0010\n",
            "Epoch 44/100\n",
            "13/13 [==============================] - 0s 5ms/step - loss: 21.5666 - mse: 21.5666 - val_loss: 25.5158 - val_mse: 25.5158 - lr: 0.0010\n",
            "Epoch 45/100\n",
            "13/13 [==============================] - 0s 3ms/step - loss: 21.5283 - mse: 21.5283 - val_loss: 25.7810 - val_mse: 25.7810 - lr: 0.0010\n",
            "Epoch 46/100\n",
            "13/13 [==============================] - 0s 4ms/step - loss: 21.4831 - mse: 21.4831 - val_loss: 25.5817 - val_mse: 25.5817 - lr: 0.0010\n",
            "Epoch 47/100\n",
            "13/13 [==============================] - 0s 3ms/step - loss: 21.5713 - mse: 21.5713 - val_loss: 25.8578 - val_mse: 25.8578 - lr: 0.0010\n",
            "Epoch 48/100\n",
            "13/13 [==============================] - 0s 5ms/step - loss: 21.5528 - mse: 21.5528 - val_loss: 25.3475 - val_mse: 25.3475 - lr: 0.0010\n",
            "Epoch 49/100\n",
            "13/13 [==============================] - 0s 4ms/step - loss: 21.5179 - mse: 21.5179 - val_loss: 25.7483 - val_mse: 25.7483 - lr: 0.0010\n",
            "Epoch 50/100\n",
            "13/13 [==============================] - 0s 3ms/step - loss: 21.4834 - mse: 21.4834 - val_loss: 25.8218 - val_mse: 25.8218 - lr: 0.0010\n",
            "Epoch 51/100\n",
            "13/13 [==============================] - 0s 3ms/step - loss: 21.4142 - mse: 21.4142 - val_loss: 25.5246 - val_mse: 25.5246 - lr: 1.0000e-04\n",
            "Epoch 52/100\n",
            "13/13 [==============================] - 0s 3ms/step - loss: 21.4149 - mse: 21.4149 - val_loss: 25.4298 - val_mse: 25.4298 - lr: 1.0000e-04\n",
            "Epoch 53/100\n",
            "13/13 [==============================] - 0s 3ms/step - loss: 21.4116 - mse: 21.4116 - val_loss: 25.4148 - val_mse: 25.4148 - lr: 1.0000e-04\n",
            "Epoch 54/100\n",
            "13/13 [==============================] - 0s 3ms/step - loss: 21.4136 - mse: 21.4136 - val_loss: 25.4552 - val_mse: 25.4552 - lr: 1.0000e-04\n",
            "Epoch 55/100\n",
            "13/13 [==============================] - 0s 5ms/step - loss: 21.4190 - mse: 21.4190 - val_loss: 25.4620 - val_mse: 25.4620 - lr: 1.0000e-04\n",
            "Epoch 56/100\n",
            "13/13 [==============================] - 0s 4ms/step - loss: 21.4080 - mse: 21.4080 - val_loss: 25.4759 - val_mse: 25.4759 - lr: 1.0000e-04\n",
            "Epoch 57/100\n",
            "13/13 [==============================] - 0s 5ms/step - loss: 21.4026 - mse: 21.4026 - val_loss: 25.4670 - val_mse: 25.4670 - lr: 1.0000e-04\n",
            "Epoch 58/100\n",
            "13/13 [==============================] - 0s 3ms/step - loss: 21.4014 - mse: 21.4014 - val_loss: 25.4829 - val_mse: 25.4829 - lr: 1.0000e-04\n",
            "Epoch 59/100\n",
            "13/13 [==============================] - 0s 4ms/step - loss: 21.3990 - mse: 21.3990 - val_loss: 25.4856 - val_mse: 25.4856 - lr: 1.0000e-04\n",
            "Epoch 60/100\n",
            "13/13 [==============================] - 0s 4ms/step - loss: 21.4041 - mse: 21.4041 - val_loss: 25.4882 - val_mse: 25.4882 - lr: 1.0000e-04\n",
            "Epoch 61/100\n",
            "13/13 [==============================] - 0s 5ms/step - loss: 21.4053 - mse: 21.4053 - val_loss: 25.4924 - val_mse: 25.4924 - lr: 1.0000e-04\n",
            "Epoch 62/100\n",
            "13/13 [==============================] - 0s 4ms/step - loss: 21.3980 - mse: 21.3980 - val_loss: 25.4699 - val_mse: 25.4699 - lr: 1.0000e-04\n",
            "Epoch 63/100\n",
            "13/13 [==============================] - 0s 4ms/step - loss: 21.3933 - mse: 21.3933 - val_loss: 25.5009 - val_mse: 25.5009 - lr: 1.0000e-04\n",
            "Epoch 64/100\n",
            "13/13 [==============================] - 0s 4ms/step - loss: 21.3962 - mse: 21.3962 - val_loss: 25.5093 - val_mse: 25.5093 - lr: 1.0000e-04\n",
            "Epoch 65/100\n",
            "13/13 [==============================] - 0s 3ms/step - loss: 21.3963 - mse: 21.3963 - val_loss: 25.4931 - val_mse: 25.4931 - lr: 1.0000e-04\n",
            "Epoch 66/100\n",
            "13/13 [==============================] - 0s 4ms/step - loss: 21.3972 - mse: 21.3972 - val_loss: 25.5036 - val_mse: 25.5036 - lr: 1.0000e-04\n",
            "Epoch 67/100\n",
            "13/13 [==============================] - 0s 4ms/step - loss: 21.3914 - mse: 21.3914 - val_loss: 25.5077 - val_mse: 25.5077 - lr: 1.0000e-04\n",
            "Epoch 68/100\n",
            "13/13 [==============================] - 0s 5ms/step - loss: 21.3944 - mse: 21.3944 - val_loss: 25.4992 - val_mse: 25.4992 - lr: 1.0000e-04\n",
            "Epoch 69/100\n",
            "13/13 [==============================] - 0s 3ms/step - loss: 21.3975 - mse: 21.3975 - val_loss: 25.5141 - val_mse: 25.5141 - lr: 1.0000e-04\n",
            "Epoch 70/100\n",
            "13/13 [==============================] - 0s 3ms/step - loss: 21.3941 - mse: 21.3941 - val_loss: 25.5295 - val_mse: 25.5295 - lr: 1.0000e-04\n",
            "Epoch 71/100\n",
            "13/13 [==============================] - 0s 3ms/step - loss: 21.3929 - mse: 21.3929 - val_loss: 25.5189 - val_mse: 25.5189 - lr: 1.0000e-04\n",
            "Epoch 72/100\n",
            "13/13 [==============================] - 0s 3ms/step - loss: 21.3880 - mse: 21.3880 - val_loss: 25.5158 - val_mse: 25.5158 - lr: 1.0000e-04\n",
            "Epoch 73/100\n",
            "13/13 [==============================] - 0s 5ms/step - loss: 21.3900 - mse: 21.3900 - val_loss: 25.5403 - val_mse: 25.5403 - lr: 1.0000e-04\n",
            "Epoch 74/100\n",
            "13/13 [==============================] - 0s 5ms/step - loss: 21.3953 - mse: 21.3953 - val_loss: 25.5280 - val_mse: 25.5280 - lr: 1.0000e-04\n",
            "Epoch 75/100\n",
            "13/13 [==============================] - 0s 3ms/step - loss: 21.3876 - mse: 21.3876 - val_loss: 25.5098 - val_mse: 25.5098 - lr: 1.0000e-04\n",
            "Epoch 76/100\n",
            "13/13 [==============================] - 0s 3ms/step - loss: 21.3905 - mse: 21.3905 - val_loss: 25.5313 - val_mse: 25.5313 - lr: 1.0000e-04\n",
            "Epoch 77/100\n",
            "13/13 [==============================] - 0s 4ms/step - loss: 21.3877 - mse: 21.3877 - val_loss: 25.5140 - val_mse: 25.5140 - lr: 1.0000e-04\n",
            "Epoch 78/100\n",
            "13/13 [==============================] - 0s 4ms/step - loss: 21.3862 - mse: 21.3862 - val_loss: 25.5165 - val_mse: 25.5165 - lr: 1.0000e-04\n",
            "Epoch 79/100\n",
            "13/13 [==============================] - 0s 3ms/step - loss: 21.3908 - mse: 21.3908 - val_loss: 25.5310 - val_mse: 25.5310 - lr: 1.0000e-04\n",
            "Epoch 80/100\n",
            "13/13 [==============================] - 0s 3ms/step - loss: 21.3860 - mse: 21.3860 - val_loss: 25.5119 - val_mse: 25.5119 - lr: 1.0000e-04\n",
            "Epoch 81/100\n",
            "13/13 [==============================] - 0s 5ms/step - loss: 21.3915 - mse: 21.3915 - val_loss: 25.5288 - val_mse: 25.5288 - lr: 1.0000e-04\n",
            "Epoch 82/100\n",
            "13/13 [==============================] - 0s 4ms/step - loss: 21.3877 - mse: 21.3877 - val_loss: 25.5157 - val_mse: 25.5157 - lr: 1.0000e-04\n",
            "Epoch 83/100\n",
            "13/13 [==============================] - 0s 4ms/step - loss: 21.3915 - mse: 21.3915 - val_loss: 25.5045 - val_mse: 25.5045 - lr: 1.0000e-04\n",
            "Epoch 84/100\n",
            "13/13 [==============================] - 0s 4ms/step - loss: 21.3890 - mse: 21.3890 - val_loss: 25.5325 - val_mse: 25.5325 - lr: 1.0000e-04\n",
            "Epoch 85/100\n",
            "13/13 [==============================] - 0s 4ms/step - loss: 21.3832 - mse: 21.3832 - val_loss: 25.5223 - val_mse: 25.5223 - lr: 1.0000e-04\n",
            "Epoch 86/100\n",
            "13/13 [==============================] - 0s 4ms/step - loss: 21.3901 - mse: 21.3901 - val_loss: 25.5348 - val_mse: 25.5348 - lr: 1.0000e-04\n",
            "Epoch 87/100\n",
            "13/13 [==============================] - 0s 4ms/step - loss: 21.3872 - mse: 21.3872 - val_loss: 25.5256 - val_mse: 25.5256 - lr: 1.0000e-04\n",
            "Epoch 88/100\n",
            "13/13 [==============================] - 0s 5ms/step - loss: 21.3835 - mse: 21.3835 - val_loss: 25.5237 - val_mse: 25.5237 - lr: 1.0000e-04\n",
            "Epoch 89/100\n",
            "13/13 [==============================] - 0s 4ms/step - loss: 21.3847 - mse: 21.3847 - val_loss: 25.5106 - val_mse: 25.5106 - lr: 1.0000e-04\n",
            "Epoch 90/100\n",
            "13/13 [==============================] - 0s 4ms/step - loss: 21.3878 - mse: 21.3878 - val_loss: 25.4919 - val_mse: 25.4919 - lr: 1.0000e-04\n",
            "Epoch 91/100\n",
            "13/13 [==============================] - 0s 4ms/step - loss: 21.3855 - mse: 21.3855 - val_loss: 25.5092 - val_mse: 25.5092 - lr: 1.0000e-04\n",
            "Epoch 92/100\n",
            "13/13 [==============================] - 0s 3ms/step - loss: 21.3893 - mse: 21.3893 - val_loss: 25.5090 - val_mse: 25.5090 - lr: 1.0000e-04\n",
            "Epoch 93/100\n",
            "13/13 [==============================] - 0s 4ms/step - loss: 21.3790 - mse: 21.3790 - val_loss: 25.5013 - val_mse: 25.5013 - lr: 1.0000e-04\n",
            "Epoch 94/100\n",
            "13/13 [==============================] - 0s 5ms/step - loss: 21.3768 - mse: 21.3768 - val_loss: 25.5015 - val_mse: 25.5015 - lr: 1.0000e-04\n",
            "Epoch 95/100\n",
            "13/13 [==============================] - 0s 5ms/step - loss: 21.3792 - mse: 21.3792 - val_loss: 25.5285 - val_mse: 25.5285 - lr: 1.0000e-04\n",
            "Epoch 96/100\n",
            "13/13 [==============================] - 0s 5ms/step - loss: 21.3821 - mse: 21.3821 - val_loss: 25.4893 - val_mse: 25.4893 - lr: 1.0000e-04\n",
            "Epoch 97/100\n",
            "13/13 [==============================] - 0s 3ms/step - loss: 21.3756 - mse: 21.3756 - val_loss: 25.4869 - val_mse: 25.4869 - lr: 1.0000e-04\n",
            "Epoch 98/100\n",
            "13/13 [==============================] - 0s 3ms/step - loss: 21.3820 - mse: 21.3820 - val_loss: 25.4681 - val_mse: 25.4681 - lr: 1.0000e-04\n",
            "Epoch 99/100\n",
            "13/13 [==============================] - 0s 4ms/step - loss: 21.3780 - mse: 21.3780 - val_loss: 25.5020 - val_mse: 25.5020 - lr: 1.0000e-04\n",
            "Epoch 100/100\n",
            "13/13 [==============================] - 0s 3ms/step - loss: 21.3775 - mse: 21.3775 - val_loss: 25.5314 - val_mse: 25.5314 - lr: 1.0000e-04\n"
          ]
        }
      ]
    },
    {
      "cell_type": "code",
      "source": [
        "plt.figure(figsize=(10, 7))\n",
        "plt.plot(r.history[\"loss\"], label=\"loss\")\n",
        "plt.plot(r.history[\"val_loss\"], label=\"val_loss\")\n",
        "plt.legend();"
      ],
      "metadata": {
        "colab": {
          "base_uri": "https://localhost:8080/",
          "height": 428
        },
        "id": "-lMQUDr5zqm-",
        "outputId": "0e3ad981-91cd-4113-c65c-cd70b46937ff"
      },
      "execution_count": null,
      "outputs": [
        {
          "output_type": "display_data",
          "data": {
            "text/plain": [
              "<Figure size 720x504 with 1 Axes>"
            ],
            "image/png": "[encoded data removed]"
          },
          "metadata": {
            "needs_background": "light"
          }
        }
      ]
    },
    {
      "cell_type": "code",
      "source": [],
      "metadata": {
        "id": "bxvwrm0i0Sku"
      },
      "execution_count": null,
      "outputs": []
    }
  ]
}